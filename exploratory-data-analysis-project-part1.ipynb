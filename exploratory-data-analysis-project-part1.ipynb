{
 "cells": [
  {
   "cell_type": "markdown",
   "id": "884f17f4",
   "metadata": {},
   "source": [
    "![](https://i.imgur.com/gDZUEw8.png)"
   ]
  },
  {
   "cell_type": "markdown",
   "id": "20de9eed",
   "metadata": {},
   "source": [
    "# Reservoir Quality in Producing Sandstones\n",
    "\n",
    "## A Case Study on Offshore Gulf of Mexico\n",
    "\n",
    "***By: Ramy Abdallah***\n",
    "\n",
    "![Sandstone Outcrops](https://i.imgur.com/AvAAH2N.jpg)"
   ]
  },
  {
   "cell_type": "markdown",
   "id": "03926c08",
   "metadata": {},
   "source": [
    "## Introduction"
   ]
  },
  {
   "cell_type": "markdown",
   "id": "0a327d74",
   "metadata": {},
   "source": [
    "### Executive Summary:\n",
    "This project will explore, analyse and visualise publicly available wells datasets from the United States offshore data centre, the USGS boreholes website - Bureau of Safety and Environmental Enforcement (BSEE) https://www.data.bsee.gov/Main/Default.aspx with a particular focus on the Gulf of Mexico (GOM) wells. This project will study sandstones quality as a reservoir, the production history of the operators on the Gulf of Mexico and a well summary report to highlight any possible problem. The reservoir quality analysis will examine relationships between average values of porosity, permeability, depth, temperature, pressure, thickness, age, and play type for data files from 2009 until 2019.The porosity plotted and shown in a wide range of plots as a function of permeability and burial depth. Also, the median (P50) porosity will be plotted against depth to examine the porosity trend. Moreover, this project will investigate the companies oil and gas production in the gulf of Mexico for the last five years. Lastly, the analysis will include an investigation of well summary reports of five wells. The project will include web scrapping to collect online well summary reports to generate a word cloud. The project results can be useful for specifying realistic distributions of parameters for both exploration risk evaluation and/or reservoir modelling by machine learning algorithms in the next project. "
   ]
  },
  {
   "cell_type": "markdown",
   "id": "786fb730",
   "metadata": {},
   "source": [
    "### Dataset websites:"
   ]
  },
  {
   "cell_type": "markdown",
   "id": "99553203",
   "metadata": {},
   "source": [
    "## [USGS](https://www.usgs.gov/science-explorer-results?es=3D+Seismic+data&classification=data)\n",
    "USGS is the sole science agency for the Department of the Interior. It is sought out by thousands of partners and customers for its natural science expertise and its vast earth and biological data holdings. As the Nation's largest water, earth, and biological science and civilian mapping agency, USGS collects, monitors, analyzes, and provides science about natural resource conditions, issues, and problems. For more inof refer to the link:https://www.usgs.gov/"
   ]
  },
  {
   "cell_type": "markdown",
   "id": "d41e7d98",
   "metadata": {},
   "source": [
    "## [BSEE Data Center:](https://www.data.bsee.gov/Main/Default.aspx)\n",
    "\n",
    "Bureau of Safety and Environmental Enforcement ([BSEE](https://www.bsee.gov/)) - Regulating the Offshore Energy Industry by Promoting Safety, Protecting the Environment and Conserving Resources. \n",
    "\n",
    "BSEE data Center where users can access public information and data pertaining to the appropriate subject matter. Data are available via online queries, as well as downloadable PDF reports, ASCII files, and scanned documents available in PDF format. Some files are available for purchase on CD/DVD/Blu-Ray media. Information may be cross referenced among different subjects. The data can be available here https://www.data.bsee.gov/Main/Default.aspx."
   ]
  },
  {
   "cell_type": "markdown",
   "id": "89be45d2",
   "metadata": {},
   "source": [
    "### Datasets:\n",
    "The datasets consist of three main parts:\n",
    "\n",
    "**1.\tSandstone reservoir quality data; and is available on the BSEE website as excel files. However, it has been converted to CSV files. This data contain 11 CSV file each file has about 10,000 sandstone reservoirs data shows as rows in the CSV file, mostly porosity, permeability, depth, temperature, pressure, thickness, age and play.** "
   ]
  },
  {
   "cell_type": "markdown",
   "id": "d70c259e",
   "metadata": {},
   "source": [
    "![Example of dataset](https://i.imgur.com/Ukak6fl.jpg)"
   ]
  },
  {
   "cell_type": "markdown",
   "id": "b5b5ca78",
   "metadata": {},
   "source": [
    "**2.\tPlay type, age and description as spearte 11 CSV files from 2009 to 2019.**"
   ]
  },
  {
   "cell_type": "markdown",
   "id": "3bca846d",
   "metadata": {},
   "source": [
    "![](https://i.imgur.com/oVyFSY6.jpg)"
   ]
  },
  {
   "cell_type": "markdown",
   "id": "cc6303dd",
   "metadata": {},
   "source": [
    "**3.\tChrono zones as age data for each play as 11 CSV files from 2009 to 2019.** "
   ]
  },
  {
   "cell_type": "markdown",
   "id": "186d1ab1",
   "metadata": {},
   "source": [
    "![](https://i.imgur.com/4zZRBww.jpg)"
   ]
  },
  {
   "cell_type": "markdown",
   "id": "74b0bc44",
   "metadata": {},
   "source": [
    "**4.\tOil and Gas production data for the last five years for all the companies that operate on GOM as PDF files. These files have been converted to excel files and later to CSV files.**"
   ]
  },
  {
   "cell_type": "markdown",
   "id": "979f8d86",
   "metadata": {},
   "source": [
    "![](https://i.imgur.com/TqZlYij.png)"
   ]
  },
  {
   "cell_type": "markdown",
   "id": "4190d52c",
   "metadata": {},
   "source": [
    "**5.\tE-Well summary reports.**"
   ]
  },
  {
   "cell_type": "markdown",
   "id": "89cc2e6a",
   "metadata": {},
   "source": [
    "![](https://i.imgur.com/r6NUr1d.png)"
   ]
  },
  {
   "cell_type": "markdown",
   "id": "9e604d70",
   "metadata": {},
   "source": [
    "## Project Aims:"
   ]
  },
  {
   "cell_type": "markdown",
   "id": "9335a3b3",
   "metadata": {},
   "source": [
    "This study aims to analyse, visualise, and explore the data to get intuitive insights into the dataset, which leads to better understanding, reducing the associated risk and eventually making more money. These aims can be achieved by answering the following questions:\n",
    "\n",
    ">1. Can we generally explore the dataset.\n",
    ">2. Can we analyse the dataset.\n",
    ">3. What is the total thickness of sandstone and total area of hydrocarbons reservoir in the Gulf of Mexico?\n",
    "?4. What is the average porosity of sandstone and average permeability of hydrocarbons reservoir in the Gulf of Mexico?\n",
    ">5. Do we have any outliers on the hydrocarbons reservoir sandstones dataset in the Gulf of Mexico?\n",
    ">6. What is the most frequent values of hydrocarbons sandstone reservoir in the Gulf of Mexico?\n",
    ">7. What is the Total stock tank oil initially in place and total gas in place in the Gulf of Mexico?\n",
    ">8. Can we group and explore our porosity and permeability with chronozones in the Gulf of Mexico?\n",
    ">9. Can we visualise the porosity as an essential parameter of our reservoir in the Gulf of Mexico and better understand the dataset?\n",
    ">10. What is the reason for the low porosity regions in the sandstone of the Gulf of Mexico?\n",
    ">11. Can we visualise the relation between the porosity and the permeability as an essential parameter of our reservoir in the Gulf of Mexico?\n",
    ">12. Can we visualise the relation between the water saturation and permeability as an essential parameter of our reservoir in the Gulf of Mexico?\n",
    ">13. What is the distribution between the sandstone parameters in the reservoir dataset, and how we can compare this with the mean, sum and maximum?\n",
    ">14. Can we study the sandstones parameters in our reservoir dataset through the years? \n",
    ">15. Can we calculate the percentage of oil and gas columns in each play type and chronozones?\n",
    ">16. Can we study the well summary reports to get important information quickly?\n",
    ">17. Can we built a bar chart race for Gulf of Mexico Operators Oil Production?\n",
    "\n",
    "\n",
    "\n"
   ]
  },
  {
   "cell_type": "markdown",
   "id": "16551cd6",
   "metadata": {},
   "source": [
    "## Project Generalised Workflow:"
   ]
  },
  {
   "cell_type": "markdown",
   "id": "5fa4f84f",
   "metadata": {},
   "source": [
    ">1. **Select Gulf of Mexico dataset**\n",
    ">2. **Perform data preparation & cleaning**\n",
    ">3. **Perform exploratory analysis & visualization**\n",
    ">4. **Ask & answer questions about the data**\n",
    ">5. **Summarize inferences & write a conclusion**"
   ]
  },
  {
   "cell_type": "markdown",
   "id": "c98abd2e",
   "metadata": {},
   "source": [
    "## Project Methodology:"
   ]
  },
  {
   "cell_type": "markdown",
   "id": "4b7c76e2",
   "metadata": {},
   "source": [
    "1.\tThe project's first step is to select a dataset from the USGS Science Explorer  - BSEE data centre. The data can be available here https://www.data.bsee.gov/Main/Default.aspx.\n",
    "\n",
    "\n",
    "2.\tSecond, we got three primary datasets, the first one about the sandstone reservoir parameters, the second the production data and finally, the well summary reports.\n",
    "\n",
    "\n",
    "3.\tThird, perform data pre-processing by converting all the files to CSV files.\n",
    "\n",
    "\n",
    "4.\tLater, we install all the needed libraries and import the libraries. \n",
    "\n",
    "\n",
    "5.\tThen we use the Pandas library to convert our files to a data frame.\n",
    "\n",
    "\n",
    "6.\tThe data frames contain multiple columns and rows where we merge, concatenate and clean our datasets. Then, we perform data analysis and exploration to see if all the data are there and there is no duplication. \n",
    "\n",
    "\n",
    "7.\tLater we get information from the data frame using `describe`, `sum` and `mean` methods. Also, we have investigated the outliers in the dataset using box and whiskers plots. Moreover, we have drawn a trendline on the scatter plots to study the relationships between different parameters in our dataset.\n",
    "\n",
    "\n",
    "8.\tFor the data exploration and visualisation, we mainly used `plotly` express to visualise all the data by creating a map, scatter and bar plots.\n",
    "\n",
    "\n",
    "9.\tAlso, we have created new columns and rows as new data frame to get further insights by plotting pie charts, bar plots and heat map. Moreover, we look at the distribution of the datasets to see if the distribution is Gaussian or exponential.\n",
    "\n",
    "\n",
    "10.\tLater, we used the well summary reports to study the dataset and plot word cloud for a further and quick understanding of the reports. \n",
    "\n",
    "\n",
    "11.\tWorldclud has been used to discriminate between the abundant, active, dry, oil, gas, salt, operation problems and wild cat wells.  \n",
    "\n",
    "\n",
    "12.\tWe have created several functions to plot the location of the wells, clean and collect the data and plot cloud words.\n",
    "\n",
    "\n",
    "13.\tAnother deep investigation using the production dataset was implemented to understand better and get insights from the datasets using the race plot. \n",
    "\n",
    "\n",
    "14.\tThe race plot was utilised to compare the operators' oil and gas production in the Gulf of Mexico.\n",
    "\n",
    "\n",
    "15.\tFinally, we draw conclusions, insights and documented our results.\n"
   ]
  },
  {
   "cell_type": "markdown",
   "id": "cd46fbc9",
   "metadata": {},
   "source": [
    "### Runing the code:\n",
    "You can execute the code using the \"Run\" button at the top of this page. You can make changes and save your own version of the naotebook to [Jovian](https://www.jovian,ai) by executing the folowing cells. Then Run-on Binder, or Colab (Google's cloud infrastructure), or Run-on Kaggle."
   ]
  },
  {
   "cell_type": "code",
   "execution_count": 1,
   "id": "877dd736",
   "metadata": {},
   "outputs": [],
   "source": [
    "!pip install jovian --upgrade --quiet"
   ]
  },
  {
   "cell_type": "code",
   "execution_count": 2,
   "id": "bfb14e2d",
   "metadata": {},
   "outputs": [],
   "source": [
    "import jovian"
   ]
  },
  {
   "cell_type": "code",
   "execution_count": null,
   "id": "abb0a698",
   "metadata": {},
   "outputs": [
    {
     "data": {
      "application/javascript": [
       "window.require && require([\"base/js/namespace\"],function(Jupyter){Jupyter.notebook.save_checkpoint()})"
      ],
      "text/plain": [
       "<IPython.core.display.Javascript object>"
      ]
     },
     "metadata": {},
     "output_type": "display_data"
    }
   ],
   "source": [
    "# Execute this to save new versions of the notebook\n",
    "jovian.commit(filename=\"exploratory-data-analysis-project\")"
   ]
  },
  {
   "cell_type": "markdown",
   "id": "1813c1be",
   "metadata": {},
   "source": [
    "### Install and Import all the needed libraries:"
   ]
  },
  {
   "cell_type": "markdown",
   "id": "a53dc3c3",
   "metadata": {},
   "source": [
    "The first step is to install and import all the needed libraries need for the project."
   ]
  },
  {
   "cell_type": "code",
   "execution_count": 4,
   "id": "7d154abc",
   "metadata": {},
   "outputs": [],
   "source": [
    "import plotly.graph_objects as go\n",
    "import plotly.express as px\n",
    "from IPython.display import HTML, IFrame \n",
    "import matplotlib\n",
    "import matplotlib.pyplot as plt\n",
    "%matplotlib inline\n",
    "import matplotlib.ticker as ticker\n",
    "import matplotlib.animation as animation\n",
    "from IPython.display import HTML\n",
    "import seaborn as sns\n",
    "import numpy as np\n",
    "import warnings\n",
    "import requests\n",
    "from bs4 import BeautifulSoup\n",
    "import re\n",
    "from wordcloud import WordCloud\n",
    "import glob\n",
    "import re\n",
    "import csv"
   ]
  },
  {
   "cell_type": "code",
   "execution_count": 5,
   "id": "f235277f",
   "metadata": {},
   "outputs": [],
   "source": [
    "# Configuring styles\n",
    "sns.set_style(\"darkgrid\")\n",
    "matplotlib.rcParams['font.size'] = 14\n",
    "matplotlib.rcParams['figure.figsize'] = (9, 5)\n",
    "matplotlib.rcParams['figure.facecolor'] = '#00000000'"
   ]
  },
  {
   "cell_type": "markdown",
   "id": "61cd3f82",
   "metadata": {},
   "source": [
    "## 1. Datasets"
   ]
  },
  {
   "cell_type": "markdown",
   "id": "5fbc3520",
   "metadata": {},
   "source": [
    "### Data preparation"
   ]
  },
  {
   "cell_type": "markdown",
   "id": "5866213e",
   "metadata": {},
   "source": [
    "This step is concerned with transforming the raw data available in the data centre into a form of CSV files used in the analysis. For example, the sandstones reservoir data downloaded as an excel file and then converted to CSV files. Also, the production data available as pdf files and later was changed to CSV files. Moreover, the well summary reports available as online files, which can be downloaded as CSV files."
   ]
  },
  {
   "cell_type": "markdown",
   "id": "297ed071",
   "metadata": {},
   "source": [
    "### Data Loading"
   ]
  },
  {
   "cell_type": "markdown",
   "id": "6759f7df",
   "metadata": {},
   "source": [
    "To read the file, we can use the `read_csv` method from Pandas. First, let's install the Pandas library."
   ]
  },
  {
   "cell_type": "markdown",
   "id": "44acbbfd",
   "metadata": {},
   "source": [
    "To install the library inside the notbook use `pip` and then `import` to import it as pd for short."
   ]
  },
  {
   "cell_type": "code",
   "execution_count": 6,
   "id": "8da88335",
   "metadata": {},
   "outputs": [],
   "source": [
    "!pip install pandas --upgrade --quiet\n",
    "warnings.filterwarnings('ignore')\n",
    "warnings.simplefilter('ignore')"
   ]
  },
  {
   "cell_type": "markdown",
   "id": "07fe04a3",
   "metadata": {},
   "source": [
    "We can now import the `pandas` module. As a convention, it is imported with the alias `pd`."
   ]
  },
  {
   "cell_type": "code",
   "execution_count": 7,
   "id": "7e22def0",
   "metadata": {},
   "outputs": [],
   "source": [
    "import pandas as pd"
   ]
  },
  {
   "cell_type": "code",
   "execution_count": 8,
   "id": "c213380d",
   "metadata": {},
   "outputs": [],
   "source": [
    "reservoir_df = pd.read_csv(r'C:\\Users\\r04ra18\\Desktop\\EDA\\Data\\csv-data\\sandstones-data\\2019 Atlas Update.csv')"
   ]
  },
  {
   "cell_type": "code",
   "execution_count": 9,
   "id": "5e5987bd",
   "metadata": {},
   "outputs": [
    {
     "data": {
      "text/plain": [
       "pandas.core.frame.DataFrame"
      ]
     },
     "execution_count": 9,
     "metadata": {},
     "output_type": "execute_result"
    }
   ],
   "source": [
    "type(reservoir_df)"
   ]
  },
  {
   "cell_type": "code",
   "execution_count": 10,
   "id": "772675b7",
   "metadata": {},
   "outputs": [
    {
     "data": {
      "text/plain": [
       "0    1761_BA001A_6500_1M\n",
       "1    1761_BA001A_6500_2M\n",
       "2    1761_BA001A_6500_3M\n",
       "3    1761_BA001A_6500_5M\n",
       "4    1761_BA001A_6500_6M\n",
       "Name: SAND_NAME, dtype: object"
      ]
     },
     "execution_count": 10,
     "metadata": {},
     "output_type": "execute_result"
    }
   ],
   "source": [
    "reservoir_df['SAND_NAME'].head(5)"
   ]
  },
  {
   "cell_type": "code",
   "execution_count": 11,
   "id": "5a534436",
   "metadata": {},
   "outputs": [
    {
     "data": {
      "text/plain": [
       "2"
      ]
     },
     "execution_count": 11,
     "metadata": {},
     "output_type": "execute_result"
    }
   ],
   "source": [
    "reservoir_df.loc[0, :][0]"
   ]
  },
  {
   "cell_type": "code",
   "execution_count": 12,
   "id": "3aeaaede",
   "metadata": {},
   "outputs": [
    {
     "data": {
      "text/html": [
       "<div>\n",
       "<style scoped>\n",
       "    .dataframe tbody tr th:only-of-type {\n",
       "        vertical-align: middle;\n",
       "    }\n",
       "\n",
       "    .dataframe tbody tr th {\n",
       "        vertical-align: top;\n",
       "    }\n",
       "\n",
       "    .dataframe thead th {\n",
       "        text-align: right;\n",
       "    }\n",
       "</style>\n",
       "<table border=\"1\" class=\"dataframe\">\n",
       "  <thead>\n",
       "    <tr style=\"text-align: right;\">\n",
       "      <th></th>\n",
       "      <th>SN_FORMSAND</th>\n",
       "      <th>SAND_NAME</th>\n",
       "      <th>ASSESSED</th>\n",
       "      <th>SDDATE</th>\n",
       "      <th>SDYEAR</th>\n",
       "      <th>SDDATEH</th>\n",
       "      <th>SDYEARH</th>\n",
       "      <th>WELLAPI</th>\n",
       "      <th>BOEM_FIELD</th>\n",
       "      <th>FCLASS</th>\n",
       "      <th>...</th>\n",
       "      <th>GRECO</th>\n",
       "      <th>GRECG</th>\n",
       "      <th>GRP</th>\n",
       "      <th>NCNT</th>\n",
       "      <th>UCNT</th>\n",
       "      <th>SCNT</th>\n",
       "      <th>TCNT</th>\n",
       "      <th>BHCOMP</th>\n",
       "      <th>LAT</th>\n",
       "      <th>LONG</th>\n",
       "    </tr>\n",
       "  </thead>\n",
       "  <tbody>\n",
       "    <tr>\n",
       "      <th>0</th>\n",
       "      <td>2</td>\n",
       "      <td>1761_BA001A_6500_1M</td>\n",
       "      <td>Y</td>\n",
       "      <td>09/02/70</td>\n",
       "      <td>1970</td>\n",
       "      <td>09/02/70</td>\n",
       "      <td>1970</td>\n",
       "      <td>427043003600</td>\n",
       "      <td>BA001A</td>\n",
       "      <td>PDN</td>\n",
       "      <td>...</td>\n",
       "      <td>347,911</td>\n",
       "      <td>21,585,148</td>\n",
       "      <td>62.04</td>\n",
       "      <td>1</td>\n",
       "      <td>0</td>\n",
       "      <td>0</td>\n",
       "      <td>1</td>\n",
       "      <td>3.0</td>\n",
       "      <td>28.344173</td>\n",
       "      <td>-95.304180</td>\n",
       "    </tr>\n",
       "    <tr>\n",
       "      <th>1</th>\n",
       "      <td>3</td>\n",
       "      <td>1761_BA001A_6500_2M</td>\n",
       "      <td>Y</td>\n",
       "      <td>09/02/70</td>\n",
       "      <td>1970</td>\n",
       "      <td>09/02/70</td>\n",
       "      <td>1970</td>\n",
       "      <td>427043003600</td>\n",
       "      <td>BA001A</td>\n",
       "      <td>PDN</td>\n",
       "      <td>...</td>\n",
       "      <td>6,605</td>\n",
       "      <td>500,530</td>\n",
       "      <td>75.78</td>\n",
       "      <td>1</td>\n",
       "      <td>0</td>\n",
       "      <td>0</td>\n",
       "      <td>1</td>\n",
       "      <td>1.0</td>\n",
       "      <td>28.344173</td>\n",
       "      <td>-95.304180</td>\n",
       "    </tr>\n",
       "    <tr>\n",
       "      <th>2</th>\n",
       "      <td>4</td>\n",
       "      <td>1761_BA001A_6500_3M</td>\n",
       "      <td>Y</td>\n",
       "      <td>09/02/70</td>\n",
       "      <td>1970</td>\n",
       "      <td>09/02/70</td>\n",
       "      <td>1970</td>\n",
       "      <td>427043003600</td>\n",
       "      <td>BA001A</td>\n",
       "      <td>PDN</td>\n",
       "      <td>...</td>\n",
       "      <td>52,501</td>\n",
       "      <td>2,985,295</td>\n",
       "      <td>56.86</td>\n",
       "      <td>1</td>\n",
       "      <td>0</td>\n",
       "      <td>0</td>\n",
       "      <td>1</td>\n",
       "      <td>1.0</td>\n",
       "      <td>28.344173</td>\n",
       "      <td>-95.304180</td>\n",
       "    </tr>\n",
       "    <tr>\n",
       "      <th>3</th>\n",
       "      <td>5</td>\n",
       "      <td>1761_BA001A_6500_5M</td>\n",
       "      <td>Y</td>\n",
       "      <td>04/04/73</td>\n",
       "      <td>1973</td>\n",
       "      <td>04/04/73</td>\n",
       "      <td>1973</td>\n",
       "      <td>427044000900</td>\n",
       "      <td>BA001A</td>\n",
       "      <td>PDN</td>\n",
       "      <td>...</td>\n",
       "      <td>56,451</td>\n",
       "      <td>2,842,043</td>\n",
       "      <td>50.35</td>\n",
       "      <td>1</td>\n",
       "      <td>0</td>\n",
       "      <td>0</td>\n",
       "      <td>1</td>\n",
       "      <td>1.0</td>\n",
       "      <td>28.348074</td>\n",
       "      <td>-95.300825</td>\n",
       "    </tr>\n",
       "    <tr>\n",
       "      <th>4</th>\n",
       "      <td>6</td>\n",
       "      <td>1761_BA001A_6500_6M</td>\n",
       "      <td>Y</td>\n",
       "      <td>09/02/70</td>\n",
       "      <td>1970</td>\n",
       "      <td>09/02/70</td>\n",
       "      <td>1970</td>\n",
       "      <td>427043003600</td>\n",
       "      <td>BA001A</td>\n",
       "      <td>PDN</td>\n",
       "      <td>...</td>\n",
       "      <td>57,159</td>\n",
       "      <td>3,741,506</td>\n",
       "      <td>65.46</td>\n",
       "      <td>1</td>\n",
       "      <td>0</td>\n",
       "      <td>0</td>\n",
       "      <td>1</td>\n",
       "      <td>1.0</td>\n",
       "      <td>28.344173</td>\n",
       "      <td>-95.304180</td>\n",
       "    </tr>\n",
       "    <tr>\n",
       "      <th>...</th>\n",
       "      <td>...</td>\n",
       "      <td>...</td>\n",
       "      <td>...</td>\n",
       "      <td>...</td>\n",
       "      <td>...</td>\n",
       "      <td>...</td>\n",
       "      <td>...</td>\n",
       "      <td>...</td>\n",
       "      <td>...</td>\n",
       "      <td>...</td>\n",
       "      <td>...</td>\n",
       "      <td>...</td>\n",
       "      <td>...</td>\n",
       "      <td>...</td>\n",
       "      <td>...</td>\n",
       "      <td>...</td>\n",
       "      <td>...</td>\n",
       "      <td>...</td>\n",
       "      <td>...</td>\n",
       "      <td>...</td>\n",
       "      <td>...</td>\n",
       "    </tr>\n",
       "    <tr>\n",
       "      <th>13389</th>\n",
       "      <td>422029</td>\n",
       "      <td>2461_TS000_ROB_L7.6</td>\n",
       "      <td>Y</td>\n",
       "      <td>02/07/08</td>\n",
       "      <td>2008</td>\n",
       "      <td>02/07/08</td>\n",
       "      <td>2008</td>\n",
       "      <td>177074088900</td>\n",
       "      <td>TS000</td>\n",
       "      <td>PDP</td>\n",
       "      <td>...</td>\n",
       "      <td>111,627</td>\n",
       "      <td>9,615,317</td>\n",
       "      <td>86.14</td>\n",
       "      <td>1</td>\n",
       "      <td>0</td>\n",
       "      <td>0</td>\n",
       "      <td>1</td>\n",
       "      <td>1.0</td>\n",
       "      <td>29.487289</td>\n",
       "      <td>-92.053398</td>\n",
       "    </tr>\n",
       "    <tr>\n",
       "      <th>13390</th>\n",
       "      <td>422031</td>\n",
       "      <td>0561_SS169_A02</td>\n",
       "      <td>Y</td>\n",
       "      <td>03/05/06</td>\n",
       "      <td>2006</td>\n",
       "      <td>03/05/06</td>\n",
       "      <td>2006</td>\n",
       "      <td>177114138201</td>\n",
       "      <td>SS169</td>\n",
       "      <td>PDP</td>\n",
       "      <td>...</td>\n",
       "      <td>200</td>\n",
       "      <td>240,881</td>\n",
       "      <td>1,204.41</td>\n",
       "      <td>1</td>\n",
       "      <td>0</td>\n",
       "      <td>0</td>\n",
       "      <td>1</td>\n",
       "      <td>1.0</td>\n",
       "      <td>28.633058</td>\n",
       "      <td>-90.975062</td>\n",
       "    </tr>\n",
       "    <tr>\n",
       "      <th>13391</th>\n",
       "      <td>422033</td>\n",
       "      <td>9991_AC857_FR20</td>\n",
       "      <td>Y</td>\n",
       "      <td>06/04/18</td>\n",
       "      <td>2018</td>\n",
       "      <td>06/04/18</td>\n",
       "      <td>2018</td>\n",
       "      <td>608054008200</td>\n",
       "      <td>AC857</td>\n",
       "      <td>PDP</td>\n",
       "      <td>...</td>\n",
       "      <td>0</td>\n",
       "      <td>0</td>\n",
       "      <td>0.00</td>\n",
       "      <td>0</td>\n",
       "      <td>1</td>\n",
       "      <td>0</td>\n",
       "      <td>1</td>\n",
       "      <td>1.0</td>\n",
       "      <td>26.099842</td>\n",
       "      <td>-94.888536</td>\n",
       "    </tr>\n",
       "    <tr>\n",
       "      <th>13392</th>\n",
       "      <td>422034</td>\n",
       "      <td>1361_SS015_14100</td>\n",
       "      <td>Y</td>\n",
       "      <td>09/11/93</td>\n",
       "      <td>1993</td>\n",
       "      <td>09/11/93</td>\n",
       "      <td>1993</td>\n",
       "      <td>177114110903</td>\n",
       "      <td>SS015</td>\n",
       "      <td>PDP</td>\n",
       "      <td>...</td>\n",
       "      <td>19,927</td>\n",
       "      <td>99,636</td>\n",
       "      <td>5.00</td>\n",
       "      <td>1</td>\n",
       "      <td>0</td>\n",
       "      <td>0</td>\n",
       "      <td>1</td>\n",
       "      <td>1.0</td>\n",
       "      <td>29.133621</td>\n",
       "      <td>-91.114773</td>\n",
       "    </tr>\n",
       "    <tr>\n",
       "      <th>13393</th>\n",
       "      <td>422035</td>\n",
       "      <td>1361_SS015_14200</td>\n",
       "      <td>Y</td>\n",
       "      <td>09/11/93</td>\n",
       "      <td>1993</td>\n",
       "      <td>09/11/93</td>\n",
       "      <td>1993</td>\n",
       "      <td>177114110903</td>\n",
       "      <td>SS015</td>\n",
       "      <td>PDP</td>\n",
       "      <td>...</td>\n",
       "      <td>33,130</td>\n",
       "      <td>165,648</td>\n",
       "      <td>5.00</td>\n",
       "      <td>1</td>\n",
       "      <td>0</td>\n",
       "      <td>0</td>\n",
       "      <td>1</td>\n",
       "      <td>NaN</td>\n",
       "      <td>29.133621</td>\n",
       "      <td>-91.114773</td>\n",
       "    </tr>\n",
       "  </tbody>\n",
       "</table>\n",
       "<p>13394 rows × 81 columns</p>\n",
       "</div>"
      ],
      "text/plain": [
       "       SN_FORMSAND            SAND_NAME ASSESSED    SDDATE  SDYEAR   SDDATEH  \\\n",
       "0                2  1761_BA001A_6500_1M        Y  09/02/70    1970  09/02/70   \n",
       "1                3  1761_BA001A_6500_2M        Y  09/02/70    1970  09/02/70   \n",
       "2                4  1761_BA001A_6500_3M        Y  09/02/70    1970  09/02/70   \n",
       "3                5  1761_BA001A_6500_5M        Y  04/04/73    1973  04/04/73   \n",
       "4                6  1761_BA001A_6500_6M        Y  09/02/70    1970  09/02/70   \n",
       "...            ...                  ...      ...       ...     ...       ...   \n",
       "13389       422029  2461_TS000_ROB_L7.6        Y  02/07/08    2008  02/07/08   \n",
       "13390       422031       0561_SS169_A02        Y  03/05/06    2006  03/05/06   \n",
       "13391       422033      9991_AC857_FR20        Y  06/04/18    2018  06/04/18   \n",
       "13392       422034     1361_SS015_14100        Y  09/11/93    1993  09/11/93   \n",
       "13393       422035     1361_SS015_14200        Y  09/11/93    1993  09/11/93   \n",
       "\n",
       "       SDYEARH       WELLAPI BOEM_FIELD FCLASS  ...    GRECO       GRECG  \\\n",
       "0         1970  427043003600     BA001A    PDN  ...  347,911  21,585,148   \n",
       "1         1970  427043003600     BA001A    PDN  ...    6,605     500,530   \n",
       "2         1970  427043003600     BA001A    PDN  ...   52,501   2,985,295   \n",
       "3         1973  427044000900     BA001A    PDN  ...   56,451   2,842,043   \n",
       "4         1970  427043003600     BA001A    PDN  ...   57,159   3,741,506   \n",
       "...        ...           ...        ...    ...  ...      ...         ...   \n",
       "13389     2008  177074088900      TS000    PDP  ...  111,627   9,615,317   \n",
       "13390     2006  177114138201      SS169    PDP  ...      200     240,881   \n",
       "13391     2018  608054008200      AC857    PDP  ...        0           0   \n",
       "13392     1993  177114110903      SS015    PDP  ...   19,927      99,636   \n",
       "13393     1993  177114110903      SS015    PDP  ...   33,130     165,648   \n",
       "\n",
       "            GRP NCNT UCNT  SCNT  TCNT BHCOMP        LAT       LONG  \n",
       "0         62.04    1    0     0     1    3.0  28.344173 -95.304180  \n",
       "1         75.78    1    0     0     1    1.0  28.344173 -95.304180  \n",
       "2         56.86    1    0     0     1    1.0  28.344173 -95.304180  \n",
       "3         50.35    1    0     0     1    1.0  28.348074 -95.300825  \n",
       "4         65.46    1    0     0     1    1.0  28.344173 -95.304180  \n",
       "...         ...  ...  ...   ...   ...    ...        ...        ...  \n",
       "13389     86.14    1    0     0     1    1.0  29.487289 -92.053398  \n",
       "13390  1,204.41    1    0     0     1    1.0  28.633058 -90.975062  \n",
       "13391      0.00    0    1     0     1    1.0  26.099842 -94.888536  \n",
       "13392      5.00    1    0     0     1    1.0  29.133621 -91.114773  \n",
       "13393      5.00    1    0     0     1    NaN  29.133621 -91.114773  \n",
       "\n",
       "[13394 rows x 81 columns]"
      ]
     },
     "execution_count": 12,
     "metadata": {},
     "output_type": "execute_result"
    }
   ],
   "source": [
    "reservoir_df"
   ]
  },
  {
   "cell_type": "markdown",
   "id": "cc78fdd9",
   "metadata": {},
   "source": [
    "### Information about the dataset"
   ]
  },
  {
   "cell_type": "markdown",
   "id": "749990ca",
   "metadata": {},
   "source": [
    "We can view some basic information about the data frame using the .info method."
   ]
  },
  {
   "cell_type": "code",
   "execution_count": 13,
   "id": "ee0314ec",
   "metadata": {},
   "outputs": [
    {
     "name": "stdout",
     "output_type": "stream",
     "text": [
      "<class 'pandas.core.frame.DataFrame'>\n",
      "RangeIndex: 13394 entries, 0 to 13393\n",
      "Data columns (total 81 columns):\n",
      " #   Column        Non-Null Count  Dtype  \n",
      "---  ------        --------------  -----  \n",
      " 0   SN_FORMSAND   13394 non-null  int64  \n",
      " 1   SAND_NAME     13394 non-null  object \n",
      " 2   ASSESSED      13394 non-null  object \n",
      " 3   SDDATE        13394 non-null  object \n",
      " 4   SDYEAR        13394 non-null  int64  \n",
      " 5   SDDATEH       13394 non-null  object \n",
      " 6   SDYEARH       13394 non-null  int64  \n",
      " 7   WELLAPI       13394 non-null  int64  \n",
      " 8   BOEM_FIELD    13394 non-null  object \n",
      " 9   FCLASS        13394 non-null  object \n",
      " 10  FSTAT         13394 non-null  object \n",
      " 11  FSTRUC        13392 non-null  object \n",
      " 12  FTRAP1        12762 non-null  object \n",
      " 13  FTRAP2        4433 non-null   object \n",
      " 14  FDDATE        13394 non-null  object \n",
      " 15  FDYEAR        13394 non-null  int64  \n",
      " 16  EIAID         13389 non-null  float64\n",
      " 17  PLAREA        13394 non-null  object \n",
      " 18  SAND          13393 non-null  object \n",
      " 19  PLAY_NUM      13394 non-null  int64  \n",
      " 20  PLAY_NAME     13394 non-null  object \n",
      " 21  POOL_NAME     13394 non-null  object \n",
      " 22  CHRONOZONE    13394 non-null  object \n",
      " 23  PLAY_TYPE     13394 non-null  object \n",
      " 24  SD_TYPE       13030 non-null  object \n",
      " 25  WDEP          13394 non-null  int64  \n",
      " 26  Original Oil  13394 non-null  object \n",
      " 27  Original Gas  13394 non-null  object \n",
      " 28  Original BOE  13394 non-null  object \n",
      " 29  Cum Oil       13394 non-null  object \n",
      " 30  Cum Gas       13394 non-null  object \n",
      " 31  Cum BOE       13394 non-null  object \n",
      " 32  Oil Reserves  13394 non-null  object \n",
      " 33  Gas Reserves  13394 non-null  object \n",
      " 34  BOE Reserves  13394 non-null  object \n",
      " 35  SS            13394 non-null  object \n",
      " 36  THK           13394 non-null  float64\n",
      " 37  TAREA         13394 non-null  object \n",
      " 38  TVOL          13394 non-null  object \n",
      " 39  OTHK          13394 non-null  float64\n",
      " 40  OAREA         13394 non-null  int64  \n",
      " 41  OVOL          13394 non-null  int64  \n",
      " 42  GTHK          13394 non-null  float64\n",
      " 43  GAREA         13394 non-null  object \n",
      " 44  GVOL          13394 non-null  object \n",
      " 45  DRIVE         13394 non-null  object \n",
      " 46  RESTYP        13394 non-null  object \n",
      " 47  POROSITY      13394 non-null  float64\n",
      " 48  SW            13394 non-null  float64\n",
      " 49  PERMEABILITY  13302 non-null  float64\n",
      " 50  Pi            13394 non-null  object \n",
      " 51  TI            13394 non-null  int64  \n",
      " 52  SDPG          13393 non-null  float64\n",
      " 53  SDTG          13393 non-null  float64\n",
      " 54  RSI           13394 non-null  int64  \n",
      " 55  YIELD         13394 non-null  float64\n",
      " 56  PROP          13394 non-null  float64\n",
      " 57  GOR           12468 non-null  float64\n",
      " 58  SPGR          13394 non-null  float64\n",
      " 59  API           13394 non-null  float64\n",
      " 60  BGI           13394 non-null  int64  \n",
      " 61  BOI           13394 non-null  float64\n",
      " 62  RECO_AF       13394 non-null  float64\n",
      " 63  RECG_AF       13394 non-null  object \n",
      " 64  OIP           13394 non-null  object \n",
      " 65  GIP           13394 non-null  object \n",
      " 66  ORF           13394 non-null  float64\n",
      " 67  ORECO         13394 non-null  int64  \n",
      " 68  ORECG         13394 non-null  int64  \n",
      " 69  ORP           13394 non-null  float64\n",
      " 70  GRF           13394 non-null  float64\n",
      " 71  GRECO         13394 non-null  object \n",
      " 72  GRECG         13394 non-null  object \n",
      " 73  GRP           13394 non-null  object \n",
      " 74  NCNT          13394 non-null  int64  \n",
      " 75  UCNT          13394 non-null  int64  \n",
      " 76  SCNT          13394 non-null  int64  \n",
      " 77  TCNT          13394 non-null  int64  \n",
      " 78  BHCOMP        12847 non-null  float64\n",
      " 79  LAT           13394 non-null  float64\n",
      " 80  LONG          13394 non-null  float64\n",
      "dtypes: float64(22), int64(18), object(41)\n",
      "memory usage: 8.3+ MB\n"
     ]
    }
   ],
   "source": [
    "reservoir_df.info()"
   ]
  },
  {
   "cell_type": "markdown",
   "id": "08be1b13",
   "metadata": {},
   "source": [
    "We can view some number of columns of the data frame using the .columns method."
   ]
  },
  {
   "cell_type": "code",
   "execution_count": 14,
   "id": "c630e55a",
   "metadata": {},
   "outputs": [
    {
     "data": {
      "text/plain": [
       "Index(['SN_FORMSAND', 'SAND_NAME', 'ASSESSED', 'SDDATE', 'SDYEAR', 'SDDATEH',\n",
       "       'SDYEARH', 'WELLAPI', 'BOEM_FIELD', 'FCLASS', 'FSTAT', 'FSTRUC',\n",
       "       'FTRAP1', 'FTRAP2', 'FDDATE', 'FDYEAR', 'EIAID', 'PLAREA', 'SAND',\n",
       "       'PLAY_NUM', 'PLAY_NAME', 'POOL_NAME', 'CHRONOZONE', 'PLAY_TYPE',\n",
       "       'SD_TYPE', 'WDEP', 'Original Oil', 'Original Gas', 'Original BOE',\n",
       "       'Cum Oil', 'Cum Gas', 'Cum BOE', 'Oil Reserves', 'Gas Reserves',\n",
       "       'BOE Reserves', 'SS', 'THK', 'TAREA', 'TVOL', 'OTHK', 'OAREA', 'OVOL',\n",
       "       'GTHK', 'GAREA', 'GVOL', 'DRIVE', 'RESTYP', 'POROSITY', 'SW',\n",
       "       'PERMEABILITY', 'Pi', 'TI', 'SDPG', 'SDTG', 'RSI', 'YIELD', 'PROP',\n",
       "       'GOR', 'SPGR', 'API', 'BGI', 'BOI', 'RECO_AF', 'RECG_AF', 'OIP', 'GIP',\n",
       "       'ORF', 'ORECO', 'ORECG', 'ORP', 'GRF', 'GRECO', 'GRECG', 'GRP', 'NCNT',\n",
       "       'UCNT', 'SCNT', 'TCNT', 'BHCOMP', 'LAT', 'LONG'],\n",
       "      dtype='object')"
      ]
     },
     "execution_count": 14,
     "metadata": {},
     "output_type": "execute_result"
    }
   ],
   "source": [
    "reservoir_df.columns"
   ]
  },
  {
   "cell_type": "markdown",
   "id": "780f78df",
   "metadata": {},
   "source": [
    "### Explore the dataset"
   ]
  },
  {
   "cell_type": "markdown",
   "id": "64efc8e8",
   "metadata": {},
   "source": [
    "we can explore the number of rows & columns using the `.shape` method."
   ]
  },
  {
   "cell_type": "code",
   "execution_count": 15,
   "id": "a9c077c5",
   "metadata": {},
   "outputs": [
    {
     "data": {
      "text/plain": [
       "(13394, 81)"
      ]
     },
     "execution_count": 15,
     "metadata": {},
     "output_type": "execute_result"
    }
   ],
   "source": [
    "reservoir_df.shape"
   ]
  },
  {
   "cell_type": "markdown",
   "id": "5fd47ce9",
   "metadata": {},
   "source": [
    "Moreover we can explore the values of columns using `.values` methods which give us idea about the values which numerical and categories."
   ]
  },
  {
   "cell_type": "code",
   "execution_count": 16,
   "id": "b025aaae",
   "metadata": {},
   "outputs": [
    {
     "data": {
      "text/plain": [
       "array([16, '9971_BA007A_BIGHUM2', 'Y', '07/27/81', 1981, '07/27/81', 1981,\n",
       "       427044005500, 'BA007A', 'PDN', 'E', 'K', 'C', nan, '07/03/69',\n",
       "       1969, 805007.0, 'WGM', 'BIGHUM2', 9971, 'MUM-MMM_S1',\n",
       "       '9971_BA007A', 'MUM-MMM', 'S1', 'G', 122, '1,462', '790,100',\n",
       "       '142,049', '1,462', '790,100', '142,049', '0', '0', '0', '12,267',\n",
       "       19.52, '114', '2,225', 0.0, 0, 0, 19.52, '114', '2,225', 'WTR',\n",
       "       'N', 0.22, 0.45, 17.0, '9,927', 236, 0.808, 1.353, 0, 1.9, 0.0,\n",
       "       540.424, 0.62, 0.0, 365, 0.0, 0.0, '355.101', '0', '4,275,825',\n",
       "       0.0, 0, 0, 0.0, 0.18, '1,462', '790,100', '540.42', 1, 0, 0, 1,\n",
       "       1.0, 28.2584428, -95.471808], dtype=object)"
      ]
     },
     "execution_count": 16,
     "metadata": {},
     "output_type": "execute_result"
    }
   ],
   "source": [
    "reservoir_df.values[10]"
   ]
  },
  {
   "cell_type": "markdown",
   "id": "e505c24b",
   "metadata": {},
   "source": [
    "After this step, let us merge our datasets and explore and analyse the data further."
   ]
  },
  {
   "cell_type": "markdown",
   "id": "1fb1833c",
   "metadata": {},
   "source": [
    "### 1. Reservoir Dataset"
   ]
  },
  {
   "cell_type": "markdown",
   "id": "c81d03b5",
   "metadata": {},
   "source": [
    "Here we have created one dataset from the three datasets."
   ]
  },
  {
   "cell_type": "markdown",
   "id": "c12883ee",
   "metadata": {},
   "source": [
    "### Data reading"
   ]
  },
  {
   "cell_type": "markdown",
   "id": "924deae2",
   "metadata": {},
   "source": [
    "### a. Sand Stone datasets"
   ]
  },
  {
   "cell_type": "markdown",
   "id": "1df59f99",
   "metadata": {},
   "source": [
    "Let us now merge the sandstone data for the last ten years and add the age, creating additional columns and operators data frames."
   ]
  },
  {
   "cell_type": "code",
   "execution_count": 17,
   "id": "3b93c4e4",
   "metadata": {},
   "outputs": [],
   "source": [
    "reservoir_19_df = pd.read_csv(r'C:\\Users\\r04ra18\\Desktop\\EDA\\Data\\csv-data\\sandstones-data\\2019 Atlas Update.csv')\n",
    "reservoir_18_df = pd.read_csv(r'C:\\Users\\r04ra18\\Desktop\\EDA\\Data\\csv-data\\sandstones-data\\2018 Atlas Update.csv')\n",
    "reservoir_17_df = pd.read_csv(r'C:\\Users\\r04ra18\\Desktop\\EDA\\Data\\csv-data\\sandstones-data\\2017 Atlas Update.csv')"
   ]
  },
  {
   "cell_type": "markdown",
   "id": "df9ff447",
   "metadata": {},
   "source": [
    "### b. Chrono zones - (Age) datasets"
   ]
  },
  {
   "cell_type": "markdown",
   "id": "88d9394a",
   "metadata": {},
   "source": [
    "Let us read all the chrono zones (age) data."
   ]
  },
  {
   "cell_type": "code",
   "execution_count": 18,
   "id": "11c995c6",
   "metadata": {},
   "outputs": [],
   "source": [
    "chronozone_19_df = pd.read_csv(r'C:\\Users\\r04ra18\\Desktop\\EDA\\Data\\csv-data\\chronozones-data\\2019 Atlas Update.csv')\n",
    "chronozone_18_df = pd.read_csv(r'C:\\Users\\r04ra18\\Desktop\\EDA\\Data\\csv-data\\chronozones-data\\2018 Atlas Update.csv')\n",
    "chronozone_17_df = pd.read_csv(r'C:\\Users\\r04ra18\\Desktop\\EDA\\Data\\csv-data\\chronozones-data\\2017 Atlas Update.csv')"
   ]
  },
  {
   "cell_type": "markdown",
   "id": "e3516022",
   "metadata": {},
   "source": [
    "### c. Play Dataset"
   ]
  },
  {
   "cell_type": "markdown",
   "id": "ab815220",
   "metadata": {},
   "source": [
    "Later we have added the play dataset, which contained the play name and description."
   ]
  },
  {
   "cell_type": "code",
   "execution_count": 19,
   "id": "6502e991",
   "metadata": {},
   "outputs": [],
   "source": [
    "play_19_df = pd.read_csv(r'C:\\Users\\r04ra18\\Desktop\\EDA\\Data\\csv-data\\play-data\\2019 Atlas Update.csv')\n",
    "play_18_df = pd.read_csv(r'C:\\Users\\r04ra18\\Desktop\\EDA\\Data\\csv-data\\play-data\\2018 Atlas Update.csv')\n",
    "play_17_df = pd.read_csv(r'C:\\Users\\r04ra18\\Desktop\\EDA\\Data\\csv-data\\play-data\\2017 Atlas Update.csv')"
   ]
  },
  {
   "cell_type": "markdown",
   "id": "0840e845",
   "metadata": {},
   "source": [
    "### Data Merge"
   ]
  },
  {
   "cell_type": "markdown",
   "id": "93da8172",
   "metadata": {},
   "source": [
    "In order to merge the datasets, we need to create a common name between the two data frames. For that reason, we are creating a similar name between the two data frames."
   ]
  },
  {
   "cell_type": "code",
   "execution_count": 20,
   "id": "ba42c073",
   "metadata": {},
   "outputs": [],
   "source": [
    "chronozone_19_df.rename(columns={'BOEM_CHRONOZONE' : 'CHRONOZONE'}, inplace=True)\n",
    "chronozone_18_df.rename(columns={'BOEM_CHRONOZONE' : 'CHRONOZONE'}, inplace=True)\n",
    "chronozone_17_df.rename(columns={'BOEM_CHRONOZONE' : 'CHRONOZONE'}, inplace=True)"
   ]
  },
  {
   "cell_type": "markdown",
   "id": "3ff33a20",
   "metadata": {},
   "source": [
    "Later we have merged the three data frames on the name `CHRONOZONE` using left merge."
   ]
  },
  {
   "cell_type": "code",
   "execution_count": 21,
   "id": "4a57dce4",
   "metadata": {},
   "outputs": [],
   "source": [
    "reservoir_19_zones_df = pd.merge(reservoir_19_df, chronozone_19_df, on='CHRONOZONE', how='left')\n",
    "reservoir_18_zones_df = pd.merge(reservoir_18_df, chronozone_18_df, on='CHRONOZONE', how='left')\n",
    "reservoir_17_zones_df = pd.merge(reservoir_17_df, chronozone_17_df, on='CHRONOZONE', how='left')"
   ]
  },
  {
   "cell_type": "markdown",
   "id": "e6d55c3b",
   "metadata": {},
   "source": [
    "Here we have created a common name between the datasets using a similar approach above."
   ]
  },
  {
   "cell_type": "code",
   "execution_count": 22,
   "id": "2c439d1b",
   "metadata": {},
   "outputs": [],
   "source": [
    "reservoir_19_zones_df['PLAY'] = reservoir_19_zones_df['CHRONOZONE'] + '_' + reservoir_19_zones_df['PLAY_TYPE']\n",
    "reservoir_18_zones_df['PLAY'] = reservoir_18_zones_df['CHRONOZONE'] + '_' + reservoir_18_zones_df['PLAY_TYPE']\n",
    "reservoir_17_zones_df['PLAY'] = reservoir_17_zones_df['CHRONOZONE'] + '_' + reservoir_17_zones_df['PLAY_TYPE']"
   ]
  },
  {
   "cell_type": "markdown",
   "id": "6736f025",
   "metadata": {},
   "source": [
    "Here we have merged the data frames on the column name `PLAY` using left merge."
   ]
  },
  {
   "cell_type": "code",
   "execution_count": 23,
   "id": "5f51a2bb",
   "metadata": {},
   "outputs": [],
   "source": [
    "reservoir_19_play_zones_df = pd.merge(reservoir_19_zones_df, play_19_df, on='PLAY', how='left')\n",
    "reservoir_18_play_zones_df = pd.merge(reservoir_18_zones_df, play_18_df, on='PLAY', how='left')\n",
    "reservoir_17_play_zones_df = pd.merge(reservoir_17_zones_df, play_17_df, on='PLAY', how='left')"
   ]
  },
  {
   "cell_type": "markdown",
   "id": "9aad1c38",
   "metadata": {},
   "source": [
    "Let us create a commonly selected columns on all the data frames to ensure that everything is going well."
   ]
  },
  {
   "cell_type": "code",
   "execution_count": 24,
   "id": "6269f273",
   "metadata": {},
   "outputs": [],
   "source": [
    "selected_columns = ['SN_FORMSAND', 'SAND_NAME', 'ASSESSED', 'SDDATE', 'SDYEAR', 'SDDATEH',\n",
    "       'SDYEARH', 'WELLAPI', 'BOEM_FIELD', 'FCLASS', 'FSTAT', 'FSTRUC',\n",
    "       'FTRAP1', 'FTRAP2', 'FDDATE', 'FDYEAR', 'EIAID', 'PLAREA', 'SAND',\n",
    "       'PLAY_NUM', 'PLAY_NAME', 'POOL_NAME', 'CHRONOZONE_x', 'PLAY_TYPE_x',\n",
    "       'SD_TYPE', 'WDEP', 'Original Oil', 'Original Gas', 'Original BOE',\n",
    "       'Cum Oil', 'Cum Gas', 'Cum BOE', 'Oil Reserves', 'Gas Reserves',\n",
    "       'BOE Reserves', 'SS', 'THK', 'TAREA', 'TVOL', 'OTHK', 'OAREA', 'OVOL',\n",
    "       'GTHK', 'GAREA', 'GVOL', 'DRIVE', 'RESTYP', 'POROSITY', 'SW',\n",
    "       'PERMEABILITY', 'Pi', 'TI', 'SDPG', 'SDTG', 'RSI', 'YIELD', 'PROP',\n",
    "       'GOR', 'SPGR', 'API', 'BGI', 'BOI', 'RECO_AF', 'RECG_AF', 'OIP', 'GIP',\n",
    "       'ORF', 'ORECO', 'ORECG', 'ORP', 'GRF', 'GRECO', 'GRECG', 'GRP', 'NCNT',\n",
    "       'UCNT', 'SCNT', 'TCNT', 'BHCOMP', 'LAT', 'LONG',\n",
    "       'CHRONOZONE_DESCRIPTION', 'PLAY', 'CHRONOZONE_y', 'PLAY_TYPE_y',\n",
    "       'PLAY_NUMBER', 'PLAY_NAME_DESCRIPTION']"
   ]
  },
  {
   "cell_type": "markdown",
   "id": "a4f8863b",
   "metadata": {},
   "source": [
    "Here we are selecting all the rows and just the selected columns for our further studies."
   ]
  },
  {
   "cell_type": "code",
   "execution_count": 25,
   "id": "6d80ec23",
   "metadata": {},
   "outputs": [],
   "source": [
    "reservoir_19_sdst_df = reservoir_19_play_zones_df.loc[:, selected_columns]\n",
    "reservoir_18_sdst_df = reservoir_18_play_zones_df.loc[:, selected_columns]\n",
    "reservoir_17_sdst_df = reservoir_17_play_zones_df.loc[:, selected_columns]"
   ]
  },
  {
   "cell_type": "markdown",
   "id": "f57500d6",
   "metadata": {},
   "source": [
    "Now let us apply sanity checks by checking the columns and rows to ensure everything is going well."
   ]
  },
  {
   "cell_type": "code",
   "execution_count": 26,
   "id": "8840e6df",
   "metadata": {},
   "outputs": [
    {
     "data": {
      "text/plain": [
       "(13394, 87)"
      ]
     },
     "execution_count": 26,
     "metadata": {},
     "output_type": "execute_result"
    }
   ],
   "source": [
    "reservoir_19_sdst_df.shape"
   ]
  },
  {
   "cell_type": "code",
   "execution_count": 27,
   "id": "7ab126af",
   "metadata": {},
   "outputs": [
    {
     "data": {
      "text/plain": [
       "(13380, 87)"
      ]
     },
     "execution_count": 27,
     "metadata": {},
     "output_type": "execute_result"
    }
   ],
   "source": [
    "reservoir_18_sdst_df.shape"
   ]
  },
  {
   "cell_type": "code",
   "execution_count": 28,
   "id": "b28849ad",
   "metadata": {},
   "outputs": [
    {
     "data": {
      "text/plain": [
       "(13356, 87)"
      ]
     },
     "execution_count": 28,
     "metadata": {},
     "output_type": "execute_result"
    }
   ],
   "source": [
    "reservoir_17_sdst_df.shape"
   ]
  },
  {
   "cell_type": "markdown",
   "id": "781d655c",
   "metadata": {},
   "source": [
    "Let us add all the data from the three years together, 2019, 2018 and 2017, to generate our final data frame."
   ]
  },
  {
   "cell_type": "code",
   "execution_count": 29,
   "id": "2d69b70d",
   "metadata": {},
   "outputs": [],
   "source": [
    "frame = [reservoir_19_sdst_df, reservoir_18_sdst_df, reservoir_17_sdst_df]"
   ]
  },
  {
   "cell_type": "code",
   "execution_count": 30,
   "id": "80188e54",
   "metadata": {},
   "outputs": [],
   "source": [
    "reservoir_sdst_df = pd.concat(frame)"
   ]
  },
  {
   "cell_type": "code",
   "execution_count": 31,
   "id": "9c5445dc",
   "metadata": {},
   "outputs": [
    {
     "data": {
      "text/plain": [
       "(40130, 87)"
      ]
     },
     "execution_count": 31,
     "metadata": {},
     "output_type": "execute_result"
    }
   ],
   "source": [
    "reservoir_sdst_df.shape"
   ]
  },
  {
   "cell_type": "markdown",
   "id": "24d32d4b",
   "metadata": {},
   "source": [
    "Now after merging and concatenating all the data frames, we have just above **40,000** rows and **87** columns in our final reservoir data frame."
   ]
  },
  {
   "cell_type": "markdown",
   "id": "e89dd2ed",
   "metadata": {},
   "source": [
    "### Reservoir Dataset Cleaning"
   ]
  },
  {
   "cell_type": "markdown",
   "id": "73bd10ab",
   "metadata": {},
   "source": [
    "We can convert argument to a numeric type by using `to_numeric` method.\n",
    "When selecting the parameters `errors{‘coerce’}`, invalid parsing will be set as NaN."
   ]
  },
  {
   "cell_type": "code",
   "execution_count": 32,
   "id": "a1608e94",
   "metadata": {},
   "outputs": [],
   "source": [
    "reservoir_sdst_df['Original Oil'] = pd.to_numeric(reservoir_sdst_df['Original Oil'], errors='coerce')\n",
    "reservoir_sdst_df['Original Gas'] = pd.to_numeric(reservoir_sdst_df['Original Gas'], errors='coerce')\n",
    "reservoir_sdst_df['Original BOE'] = pd.to_numeric(reservoir_sdst_df['Original BOE'], errors='coerce')\n",
    "reservoir_sdst_df['BHCOMP'] = pd.to_numeric(reservoir_sdst_df['BHCOMP'], errors = 'coerce')\n",
    "reservoir_sdst_df['PERMEABILITY'] = pd.to_numeric(reservoir_sdst_df['PERMEABILITY'], errors = 'coerce')\n",
    "reservoir_sdst_df['TVOL'] = pd.to_numeric(reservoir_sdst_df['TVOL'], errors = 'coerce')\n",
    "reservoir_sdst_df['TAREA'] = pd.to_numeric(reservoir_sdst_df['TAREA'], errors = 'coerce')\n",
    "reservoir_sdst_df['SS'] = pd.to_numeric(reservoir_sdst_df['SS'], errors = 'coerce')"
   ]
  },
  {
   "cell_type": "code",
   "execution_count": 33,
   "id": "38a28742",
   "metadata": {},
   "outputs": [
    {
     "data": {
      "text/plain": [
       "0        3.0\n",
       "1        1.0\n",
       "2        1.0\n",
       "3        1.0\n",
       "4        1.0\n",
       "        ... \n",
       "13351    1.0\n",
       "13352    1.0\n",
       "13353    1.0\n",
       "13354    1.0\n",
       "13355    1.0\n",
       "Name: BHCOMP, Length: 40130, dtype: float64"
      ]
     },
     "execution_count": 33,
     "metadata": {},
     "output_type": "execute_result"
    }
   ],
   "source": [
    "reservoir_sdst_df['BHCOMP']"
   ]
  },
  {
   "cell_type": "code",
   "execution_count": 34,
   "id": "da177b3e",
   "metadata": {},
   "outputs": [
    {
     "data": {
      "text/html": [
       "<div>\n",
       "<style scoped>\n",
       "    .dataframe tbody tr th:only-of-type {\n",
       "        vertical-align: middle;\n",
       "    }\n",
       "\n",
       "    .dataframe tbody tr th {\n",
       "        vertical-align: top;\n",
       "    }\n",
       "\n",
       "    .dataframe thead th {\n",
       "        text-align: right;\n",
       "    }\n",
       "</style>\n",
       "<table border=\"1\" class=\"dataframe\">\n",
       "  <thead>\n",
       "    <tr style=\"text-align: right;\">\n",
       "      <th></th>\n",
       "      <th>SN_FORMSAND</th>\n",
       "      <th>SAND_NAME</th>\n",
       "      <th>ASSESSED</th>\n",
       "      <th>SDDATE</th>\n",
       "      <th>SDYEAR</th>\n",
       "      <th>SDDATEH</th>\n",
       "      <th>SDYEARH</th>\n",
       "      <th>WELLAPI</th>\n",
       "      <th>BOEM_FIELD</th>\n",
       "      <th>FCLASS</th>\n",
       "      <th>...</th>\n",
       "      <th>TCNT</th>\n",
       "      <th>BHCOMP</th>\n",
       "      <th>LAT</th>\n",
       "      <th>LONG</th>\n",
       "      <th>CHRONOZONE_DESCRIPTION</th>\n",
       "      <th>PLAY</th>\n",
       "      <th>CHRONOZONE_y</th>\n",
       "      <th>PLAY_TYPE_y</th>\n",
       "      <th>PLAY_NUMBER</th>\n",
       "      <th>PLAY_NAME_DESCRIPTION</th>\n",
       "    </tr>\n",
       "  </thead>\n",
       "  <tbody>\n",
       "    <tr>\n",
       "      <th>0</th>\n",
       "      <td>2</td>\n",
       "      <td>1761_BA001A_6500_1M</td>\n",
       "      <td>Y</td>\n",
       "      <td>09/02/70</td>\n",
       "      <td>1970</td>\n",
       "      <td>09/02/70</td>\n",
       "      <td>1970</td>\n",
       "      <td>427043003600</td>\n",
       "      <td>BA001A</td>\n",
       "      <td>PDN</td>\n",
       "      <td>...</td>\n",
       "      <td>1</td>\n",
       "      <td>3.0</td>\n",
       "      <td>28.344173</td>\n",
       "      <td>-95.304180</td>\n",
       "      <td>Lower Upper Miocene</td>\n",
       "      <td>MLU_P1</td>\n",
       "      <td>MLU</td>\n",
       "      <td>P1</td>\n",
       "      <td>1761</td>\n",
       "      <td>Lower Upper Miocene Progradational Play</td>\n",
       "    </tr>\n",
       "    <tr>\n",
       "      <th>1</th>\n",
       "      <td>3</td>\n",
       "      <td>1761_BA001A_6500_2M</td>\n",
       "      <td>Y</td>\n",
       "      <td>09/02/70</td>\n",
       "      <td>1970</td>\n",
       "      <td>09/02/70</td>\n",
       "      <td>1970</td>\n",
       "      <td>427043003600</td>\n",
       "      <td>BA001A</td>\n",
       "      <td>PDN</td>\n",
       "      <td>...</td>\n",
       "      <td>1</td>\n",
       "      <td>1.0</td>\n",
       "      <td>28.344173</td>\n",
       "      <td>-95.304180</td>\n",
       "      <td>Lower Upper Miocene</td>\n",
       "      <td>MLU_P1</td>\n",
       "      <td>MLU</td>\n",
       "      <td>P1</td>\n",
       "      <td>1761</td>\n",
       "      <td>Lower Upper Miocene Progradational Play</td>\n",
       "    </tr>\n",
       "    <tr>\n",
       "      <th>2</th>\n",
       "      <td>4</td>\n",
       "      <td>1761_BA001A_6500_3M</td>\n",
       "      <td>Y</td>\n",
       "      <td>09/02/70</td>\n",
       "      <td>1970</td>\n",
       "      <td>09/02/70</td>\n",
       "      <td>1970</td>\n",
       "      <td>427043003600</td>\n",
       "      <td>BA001A</td>\n",
       "      <td>PDN</td>\n",
       "      <td>...</td>\n",
       "      <td>1</td>\n",
       "      <td>1.0</td>\n",
       "      <td>28.344173</td>\n",
       "      <td>-95.304180</td>\n",
       "      <td>Lower Upper Miocene</td>\n",
       "      <td>MLU_P1</td>\n",
       "      <td>MLU</td>\n",
       "      <td>P1</td>\n",
       "      <td>1761</td>\n",
       "      <td>Lower Upper Miocene Progradational Play</td>\n",
       "    </tr>\n",
       "    <tr>\n",
       "      <th>3</th>\n",
       "      <td>5</td>\n",
       "      <td>1761_BA001A_6500_5M</td>\n",
       "      <td>Y</td>\n",
       "      <td>04/04/73</td>\n",
       "      <td>1973</td>\n",
       "      <td>04/04/73</td>\n",
       "      <td>1973</td>\n",
       "      <td>427044000900</td>\n",
       "      <td>BA001A</td>\n",
       "      <td>PDN</td>\n",
       "      <td>...</td>\n",
       "      <td>1</td>\n",
       "      <td>1.0</td>\n",
       "      <td>28.348074</td>\n",
       "      <td>-95.300825</td>\n",
       "      <td>Lower Upper Miocene</td>\n",
       "      <td>MLU_P1</td>\n",
       "      <td>MLU</td>\n",
       "      <td>P1</td>\n",
       "      <td>1761</td>\n",
       "      <td>Lower Upper Miocene Progradational Play</td>\n",
       "    </tr>\n",
       "    <tr>\n",
       "      <th>4</th>\n",
       "      <td>6</td>\n",
       "      <td>1761_BA001A_6500_6M</td>\n",
       "      <td>Y</td>\n",
       "      <td>09/02/70</td>\n",
       "      <td>1970</td>\n",
       "      <td>09/02/70</td>\n",
       "      <td>1970</td>\n",
       "      <td>427043003600</td>\n",
       "      <td>BA001A</td>\n",
       "      <td>PDN</td>\n",
       "      <td>...</td>\n",
       "      <td>1</td>\n",
       "      <td>1.0</td>\n",
       "      <td>28.344173</td>\n",
       "      <td>-95.304180</td>\n",
       "      <td>Lower Upper Miocene</td>\n",
       "      <td>MLU_P1</td>\n",
       "      <td>MLU</td>\n",
       "      <td>P1</td>\n",
       "      <td>1761</td>\n",
       "      <td>Lower Upper Miocene Progradational Play</td>\n",
       "    </tr>\n",
       "    <tr>\n",
       "      <th>...</th>\n",
       "      <td>...</td>\n",
       "      <td>...</td>\n",
       "      <td>...</td>\n",
       "      <td>...</td>\n",
       "      <td>...</td>\n",
       "      <td>...</td>\n",
       "      <td>...</td>\n",
       "      <td>...</td>\n",
       "      <td>...</td>\n",
       "      <td>...</td>\n",
       "      <td>...</td>\n",
       "      <td>...</td>\n",
       "      <td>...</td>\n",
       "      <td>...</td>\n",
       "      <td>...</td>\n",
       "      <td>...</td>\n",
       "      <td>...</td>\n",
       "      <td>...</td>\n",
       "      <td>...</td>\n",
       "      <td>...</td>\n",
       "      <td>...</td>\n",
       "    </tr>\n",
       "    <tr>\n",
       "      <th>13351</th>\n",
       "      <td>421846</td>\n",
       "      <td>0961_EI231_9400</td>\n",
       "      <td>Y</td>\n",
       "      <td>09/24/13</td>\n",
       "      <td>2013</td>\n",
       "      <td>09/24/13</td>\n",
       "      <td>2013</td>\n",
       "      <td>177094124902</td>\n",
       "      <td>EI231</td>\n",
       "      <td>PDP</td>\n",
       "      <td>...</td>\n",
       "      <td>1</td>\n",
       "      <td>1.0</td>\n",
       "      <td>28.597450</td>\n",
       "      <td>-91.454580</td>\n",
       "      <td>Upper Pliocene</td>\n",
       "      <td>PU_P1</td>\n",
       "      <td>PU</td>\n",
       "      <td>P1</td>\n",
       "      <td>961</td>\n",
       "      <td>Upper Pliocene Progradational Play</td>\n",
       "    </tr>\n",
       "    <tr>\n",
       "      <th>13352</th>\n",
       "      <td>421847</td>\n",
       "      <td>0961_WC480_M_2L</td>\n",
       "      <td>Y</td>\n",
       "      <td>02/24/09</td>\n",
       "      <td>2009</td>\n",
       "      <td>02/24/09</td>\n",
       "      <td>2009</td>\n",
       "      <td>177024183500</td>\n",
       "      <td>WC480</td>\n",
       "      <td>PDN</td>\n",
       "      <td>...</td>\n",
       "      <td>1</td>\n",
       "      <td>1.0</td>\n",
       "      <td>28.517770</td>\n",
       "      <td>-93.151040</td>\n",
       "      <td>Upper Pliocene</td>\n",
       "      <td>PU_P1</td>\n",
       "      <td>PU</td>\n",
       "      <td>P1</td>\n",
       "      <td>961</td>\n",
       "      <td>Upper Pliocene Progradational Play</td>\n",
       "    </tr>\n",
       "    <tr>\n",
       "      <th>13353</th>\n",
       "      <td>421848</td>\n",
       "      <td>1941_WC066_GN</td>\n",
       "      <td>Y</td>\n",
       "      <td>09/22/93</td>\n",
       "      <td>1993</td>\n",
       "      <td>09/22/93</td>\n",
       "      <td>1993</td>\n",
       "      <td>177004087900</td>\n",
       "      <td>WC066</td>\n",
       "      <td>PDP</td>\n",
       "      <td>...</td>\n",
       "      <td>1</td>\n",
       "      <td>1.0</td>\n",
       "      <td>29.621330</td>\n",
       "      <td>-93.124000</td>\n",
       "      <td>Upper Middle Miocene</td>\n",
       "      <td>MUM_A1</td>\n",
       "      <td>MUM</td>\n",
       "      <td>A1</td>\n",
       "      <td>1941</td>\n",
       "      <td>Upper Middle Miocene Aggradational Play</td>\n",
       "    </tr>\n",
       "    <tr>\n",
       "      <th>13354</th>\n",
       "      <td>421852</td>\n",
       "      <td>0561_SS246_03200</td>\n",
       "      <td>Y</td>\n",
       "      <td>01/14/03</td>\n",
       "      <td>2003</td>\n",
       "      <td>01/14/03</td>\n",
       "      <td>2003</td>\n",
       "      <td>177124023201</td>\n",
       "      <td>SS246</td>\n",
       "      <td>PDP</td>\n",
       "      <td>...</td>\n",
       "      <td>1</td>\n",
       "      <td>1.0</td>\n",
       "      <td>28.404800</td>\n",
       "      <td>-91.301130</td>\n",
       "      <td>Lower Pleistocene</td>\n",
       "      <td>PLL_P1</td>\n",
       "      <td>PLL</td>\n",
       "      <td>P1</td>\n",
       "      <td>561</td>\n",
       "      <td>Lower Pleistocene Progradational Play</td>\n",
       "    </tr>\n",
       "    <tr>\n",
       "      <th>13355</th>\n",
       "      <td>421853</td>\n",
       "      <td>1782_EW873_MIO_G</td>\n",
       "      <td>Y</td>\n",
       "      <td>09/30/05</td>\n",
       "      <td>2005</td>\n",
       "      <td>09/30/05</td>\n",
       "      <td>2005</td>\n",
       "      <td>177164032901</td>\n",
       "      <td>EW873</td>\n",
       "      <td>PDP</td>\n",
       "      <td>...</td>\n",
       "      <td>1</td>\n",
       "      <td>1.0</td>\n",
       "      <td>28.158350</td>\n",
       "      <td>-90.214000</td>\n",
       "      <td>Lower Upper Miocene</td>\n",
       "      <td>MLU_F2</td>\n",
       "      <td>MLU</td>\n",
       "      <td>F2</td>\n",
       "      <td>1782</td>\n",
       "      <td>Lower Upper Miocene Fan 2 Play</td>\n",
       "    </tr>\n",
       "  </tbody>\n",
       "</table>\n",
       "<p>40130 rows × 87 columns</p>\n",
       "</div>"
      ],
      "text/plain": [
       "       SN_FORMSAND            SAND_NAME ASSESSED    SDDATE  SDYEAR   SDDATEH  \\\n",
       "0                2  1761_BA001A_6500_1M        Y  09/02/70    1970  09/02/70   \n",
       "1                3  1761_BA001A_6500_2M        Y  09/02/70    1970  09/02/70   \n",
       "2                4  1761_BA001A_6500_3M        Y  09/02/70    1970  09/02/70   \n",
       "3                5  1761_BA001A_6500_5M        Y  04/04/73    1973  04/04/73   \n",
       "4                6  1761_BA001A_6500_6M        Y  09/02/70    1970  09/02/70   \n",
       "...            ...                  ...      ...       ...     ...       ...   \n",
       "13351       421846      0961_EI231_9400        Y  09/24/13    2013  09/24/13   \n",
       "13352       421847      0961_WC480_M_2L        Y  02/24/09    2009  02/24/09   \n",
       "13353       421848        1941_WC066_GN        Y  09/22/93    1993  09/22/93   \n",
       "13354       421852     0561_SS246_03200        Y  01/14/03    2003  01/14/03   \n",
       "13355       421853     1782_EW873_MIO_G        Y  09/30/05    2005  09/30/05   \n",
       "\n",
       "       SDYEARH       WELLAPI BOEM_FIELD FCLASS  ... TCNT BHCOMP        LAT  \\\n",
       "0         1970  427043003600     BA001A    PDN  ...    1    3.0  28.344173   \n",
       "1         1970  427043003600     BA001A    PDN  ...    1    1.0  28.344173   \n",
       "2         1970  427043003600     BA001A    PDN  ...    1    1.0  28.344173   \n",
       "3         1973  427044000900     BA001A    PDN  ...    1    1.0  28.348074   \n",
       "4         1970  427043003600     BA001A    PDN  ...    1    1.0  28.344173   \n",
       "...        ...           ...        ...    ...  ...  ...    ...        ...   \n",
       "13351     2013  177094124902      EI231    PDP  ...    1    1.0  28.597450   \n",
       "13352     2009  177024183500      WC480    PDN  ...    1    1.0  28.517770   \n",
       "13353     1993  177004087900      WC066    PDP  ...    1    1.0  29.621330   \n",
       "13354     2003  177124023201      SS246    PDP  ...    1    1.0  28.404800   \n",
       "13355     2005  177164032901      EW873    PDP  ...    1    1.0  28.158350   \n",
       "\n",
       "            LONG CHRONOZONE_DESCRIPTION    PLAY  CHRONOZONE_y PLAY_TYPE_y  \\\n",
       "0     -95.304180    Lower Upper Miocene  MLU_P1           MLU          P1   \n",
       "1     -95.304180    Lower Upper Miocene  MLU_P1           MLU          P1   \n",
       "2     -95.304180    Lower Upper Miocene  MLU_P1           MLU          P1   \n",
       "3     -95.300825    Lower Upper Miocene  MLU_P1           MLU          P1   \n",
       "4     -95.304180    Lower Upper Miocene  MLU_P1           MLU          P1   \n",
       "...          ...                    ...     ...           ...         ...   \n",
       "13351 -91.454580         Upper Pliocene   PU_P1            PU          P1   \n",
       "13352 -93.151040         Upper Pliocene   PU_P1            PU          P1   \n",
       "13353 -93.124000   Upper Middle Miocene  MUM_A1           MUM          A1   \n",
       "13354 -91.301130      Lower Pleistocene  PLL_P1           PLL          P1   \n",
       "13355 -90.214000    Lower Upper Miocene  MLU_F2           MLU          F2   \n",
       "\n",
       "      PLAY_NUMBER                    PLAY_NAME_DESCRIPTION  \n",
       "0            1761  Lower Upper Miocene Progradational Play  \n",
       "1            1761  Lower Upper Miocene Progradational Play  \n",
       "2            1761  Lower Upper Miocene Progradational Play  \n",
       "3            1761  Lower Upper Miocene Progradational Play  \n",
       "4            1761  Lower Upper Miocene Progradational Play  \n",
       "...           ...                                      ...  \n",
       "13351         961       Upper Pliocene Progradational Play  \n",
       "13352         961       Upper Pliocene Progradational Play  \n",
       "13353        1941  Upper Middle Miocene Aggradational Play  \n",
       "13354         561    Lower Pleistocene Progradational Play  \n",
       "13355        1782           Lower Upper Miocene Fan 2 Play  \n",
       "\n",
       "[40130 rows x 87 columns]"
      ]
     },
     "execution_count": 34,
     "metadata": {},
     "output_type": "execute_result"
    }
   ],
   "source": [
    "reservoir_sdst_df"
   ]
  },
  {
   "cell_type": "markdown",
   "id": "8898f833",
   "metadata": {},
   "source": [
    "Here we have checked for Nan values, and we can see that our data do not have any Nan values."
   ]
  },
  {
   "cell_type": "code",
   "execution_count": 35,
   "id": "58748a1e",
   "metadata": {},
   "outputs": [
    {
     "data": {
      "text/plain": [
       "SN_FORMSAND              0\n",
       "SAND_NAME                0\n",
       "ASSESSED                 0\n",
       "SDDATE                   0\n",
       "SDYEAR                   0\n",
       "                        ..\n",
       "PLAY                     0\n",
       "CHRONOZONE_y             0\n",
       "PLAY_TYPE_y              0\n",
       "PLAY_NUMBER              0\n",
       "PLAY_NAME_DESCRIPTION    0\n",
       "Length: 87, dtype: int64"
      ]
     },
     "execution_count": 35,
     "metadata": {},
     "output_type": "execute_result"
    }
   ],
   "source": [
    "reservoir_sdst_df.isna().sum()"
   ]
  },
  {
   "cell_type": "markdown",
   "id": "c8c29932",
   "metadata": {},
   "source": [
    "### 2. Operator Dataset"
   ]
  },
  {
   "cell_type": "markdown",
   "id": "3cdb1d3d",
   "metadata": {},
   "source": [
    "Then we have added the operator dataset, which contained the blocks names, area and operators description."
   ]
  },
  {
   "cell_type": "code",
   "execution_count": 36,
   "id": "c45a11ca",
   "metadata": {
    "scrolled": true
   },
   "outputs": [],
   "source": [
    "operator_19_df = pd.read_csv(r'C:\\Users\\r04ra18\\Desktop\\EDA\\Data\\csv-data\\operator-data\\2019 Atlas Update.csv')\n",
    "operator_18_df = pd.read_csv(r'C:\\Users\\r04ra18\\Desktop\\EDA\\Data\\csv-data\\operator-data\\2018 Atlas Update.csv')\n",
    "operator_17_df = pd.read_csv(r'C:\\Users\\r04ra18\\Desktop\\EDA\\Data\\csv-data\\operator-data\\2017 Atlas Update.csv')\n",
    "operator_16_df = pd.read_csv(r'C:\\Users\\r04ra18\\Desktop\\EDA\\Data\\csv-data\\operator-data\\2016 Atlas Update.csv')\n",
    "operator_15_df = pd.read_csv(r'C:\\Users\\r04ra18\\Desktop\\EDA\\Data\\csv-data\\operator-data\\2015 Atlas Update.csv')\n",
    "operator_14_df = pd.read_csv(r'C:\\Users\\r04ra18\\Desktop\\EDA\\Data\\csv-data\\operator-data\\2014 Atlas Update.csv')\n",
    "operator_13_df = pd.read_csv(r'C:\\Users\\r04ra18\\Desktop\\EDA\\Data\\csv-data\\operator-data\\2013 Atlas Update.csv')\n",
    "operator_12_df = pd.read_csv(r'C:\\Users\\r04ra18\\Desktop\\EDA\\Data\\csv-data\\operator-data\\2012 Atlas Update.csv')\n",
    "operator_11_df = pd.read_csv(r'C:\\Users\\r04ra18\\Desktop\\EDA\\Data\\csv-data\\operator-data\\2011 Atlas Update.csv')\n",
    "operator_10_df = pd.read_csv(r'C:\\Users\\r04ra18\\Desktop\\EDA\\Data\\csv-data\\operator-data\\2010 Atlas Update.csv')\n",
    "operator_09_df = pd.read_csv(r'C:\\Users\\r04ra18\\Desktop\\EDA\\Data\\csv-data\\operator-data\\2009 Atlas Update.csv')\n",
    "warnings.filterwarnings('ignore')\n",
    "warnings.simplefilter('ignore')"
   ]
  },
  {
   "cell_type": "code",
   "execution_count": 37,
   "id": "09640adf",
   "metadata": {},
   "outputs": [
    {
     "data": {
      "text/html": [
       "<div>\n",
       "<style scoped>\n",
       "    .dataframe tbody tr th:only-of-type {\n",
       "        vertical-align: middle;\n",
       "    }\n",
       "\n",
       "    .dataframe tbody tr th {\n",
       "        vertical-align: top;\n",
       "    }\n",
       "\n",
       "    .dataframe thead th {\n",
       "        text-align: right;\n",
       "    }\n",
       "</style>\n",
       "<table border=\"1\" class=\"dataframe\">\n",
       "  <thead>\n",
       "    <tr style=\"text-align: right;\">\n",
       "      <th></th>\n",
       "      <th>BOEM_FIELD</th>\n",
       "      <th>LEASE</th>\n",
       "      <th>AREA_CODE</th>\n",
       "      <th>BLOCK_NUMBER</th>\n",
       "      <th>WELL_API</th>\n",
       "      <th>PIC</th>\n",
       "      <th>WELL</th>\n",
       "      <th>PLAY</th>\n",
       "      <th>SAND</th>\n",
       "      <th>OPER_RES</th>\n",
       "      <th>OPER_NAME</th>\n",
       "    </tr>\n",
       "  </thead>\n",
       "  <tbody>\n",
       "    <tr>\n",
       "      <th>0</th>\n",
       "      <td>AC024</td>\n",
       "      <td>G10379</td>\n",
       "      <td>AC</td>\n",
       "      <td>24</td>\n",
       "      <td>608054000501</td>\n",
       "      <td>S01</td>\n",
       "      <td>SS001</td>\n",
       "      <td>PU-F2</td>\n",
       "      <td>P1_10</td>\n",
       "      <td>P1-10</td>\n",
       "      <td>EXXON MOBIL CORPORATION</td>\n",
       "    </tr>\n",
       "    <tr>\n",
       "      <th>1</th>\n",
       "      <td>AC025</td>\n",
       "      <td>G10380</td>\n",
       "      <td>AC</td>\n",
       "      <td>25</td>\n",
       "      <td>608054000700</td>\n",
       "      <td>S01</td>\n",
       "      <td>HA001</td>\n",
       "      <td>PL-F2</td>\n",
       "      <td>A</td>\n",
       "      <td>P1-10</td>\n",
       "      <td>EXXON MOBIL CORPORATION</td>\n",
       "    </tr>\n",
       "    <tr>\n",
       "      <th>2</th>\n",
       "      <td>AC025</td>\n",
       "      <td>G10380</td>\n",
       "      <td>AC</td>\n",
       "      <td>25</td>\n",
       "      <td>608054000803</td>\n",
       "      <td>S01</td>\n",
       "      <td>HA002</td>\n",
       "      <td>PL-F2</td>\n",
       "      <td>A</td>\n",
       "      <td>P1-10</td>\n",
       "      <td>EXXON MOBIL CORPORATION</td>\n",
       "    </tr>\n",
       "  </tbody>\n",
       "</table>\n",
       "</div>"
      ],
      "text/plain": [
       "  BOEM_FIELD   LEASE AREA_CODE BLOCK_NUMBER      WELL_API  PIC   WELL   PLAY  \\\n",
       "0      AC024  G10379        AC           24  608054000501  S01  SS001  PU-F2   \n",
       "1      AC025  G10380        AC           25  608054000700  S01  HA001  PL-F2   \n",
       "2      AC025  G10380        AC           25  608054000803  S01  HA002  PL-F2   \n",
       "\n",
       "    SAND OPER_RES                OPER_NAME  \n",
       "0  P1_10    P1-10  EXXON MOBIL CORPORATION  \n",
       "1      A    P1-10  EXXON MOBIL CORPORATION  \n",
       "2      A    P1-10  EXXON MOBIL CORPORATION  "
      ]
     },
     "execution_count": 37,
     "metadata": {},
     "output_type": "execute_result"
    }
   ],
   "source": [
    "operator_17_df.head(3)"
   ]
  },
  {
   "cell_type": "code",
   "execution_count": 38,
   "id": "7883138c",
   "metadata": {},
   "outputs": [],
   "source": [
    "frames_operator = [operator_19_df, operator_18_df, operator_17_df, operator_16_df, operator_15_df, operator_14_df, operator_13_df, operator_12_df, operator_11_df, operator_10_df, operator_09_df]"
   ]
  },
  {
   "cell_type": "code",
   "execution_count": 39,
   "id": "7a9247dd",
   "metadata": {},
   "outputs": [],
   "source": [
    "operator_con_df = pd.concat(frames_operator)"
   ]
  },
  {
   "cell_type": "code",
   "execution_count": 40,
   "id": "1f796ade",
   "metadata": {},
   "outputs": [
    {
     "data": {
      "text/html": [
       "<div>\n",
       "<style scoped>\n",
       "    .dataframe tbody tr th:only-of-type {\n",
       "        vertical-align: middle;\n",
       "    }\n",
       "\n",
       "    .dataframe tbody tr th {\n",
       "        vertical-align: top;\n",
       "    }\n",
       "\n",
       "    .dataframe thead th {\n",
       "        text-align: right;\n",
       "    }\n",
       "</style>\n",
       "<table border=\"1\" class=\"dataframe\">\n",
       "  <thead>\n",
       "    <tr style=\"text-align: right;\">\n",
       "      <th></th>\n",
       "      <th>BOEM_FIELD</th>\n",
       "      <th>LEASE</th>\n",
       "      <th>AREA_CODE</th>\n",
       "      <th>BLOCK_NUMBER</th>\n",
       "      <th>WELL_API</th>\n",
       "      <th>PIC</th>\n",
       "      <th>WELL</th>\n",
       "      <th>PLAY</th>\n",
       "      <th>SAND</th>\n",
       "      <th>OPER_RES</th>\n",
       "      <th>OPER_NAME</th>\n",
       "    </tr>\n",
       "  </thead>\n",
       "  <tbody>\n",
       "    <tr>\n",
       "      <th>0</th>\n",
       "      <td>AC024</td>\n",
       "      <td>G10379</td>\n",
       "      <td>AC</td>\n",
       "      <td>24</td>\n",
       "      <td>6.080540e+11</td>\n",
       "      <td>S01</td>\n",
       "      <td>SS001</td>\n",
       "      <td>PLL-F2</td>\n",
       "      <td>P1_10</td>\n",
       "      <td>P1-10</td>\n",
       "      <td>EXXON MOBIL CORPORATION</td>\n",
       "    </tr>\n",
       "    <tr>\n",
       "      <th>1</th>\n",
       "      <td>AC025</td>\n",
       "      <td>G10380</td>\n",
       "      <td>AC</td>\n",
       "      <td>25</td>\n",
       "      <td>6.080540e+11</td>\n",
       "      <td>S01</td>\n",
       "      <td>HA001</td>\n",
       "      <td>PLL-F2</td>\n",
       "      <td>A</td>\n",
       "      <td>P1-10</td>\n",
       "      <td>EXXON MOBIL CORPORATION</td>\n",
       "    </tr>\n",
       "    <tr>\n",
       "      <th>2</th>\n",
       "      <td>AC025</td>\n",
       "      <td>G10380</td>\n",
       "      <td>AC</td>\n",
       "      <td>25</td>\n",
       "      <td>6.080540e+11</td>\n",
       "      <td>S01</td>\n",
       "      <td>HA002</td>\n",
       "      <td>PLL-F2</td>\n",
       "      <td>A</td>\n",
       "      <td>P1-10</td>\n",
       "      <td>EXXON MOBIL CORPORATION</td>\n",
       "    </tr>\n",
       "  </tbody>\n",
       "</table>\n",
       "</div>"
      ],
      "text/plain": [
       "  BOEM_FIELD   LEASE AREA_CODE BLOCK_NUMBER      WELL_API  PIC   WELL    PLAY  \\\n",
       "0      AC024  G10379        AC           24  6.080540e+11  S01  SS001  PLL-F2   \n",
       "1      AC025  G10380        AC           25  6.080540e+11  S01  HA001  PLL-F2   \n",
       "2      AC025  G10380        AC           25  6.080540e+11  S01  HA002  PLL-F2   \n",
       "\n",
       "    SAND OPER_RES                OPER_NAME  \n",
       "0  P1_10    P1-10  EXXON MOBIL CORPORATION  \n",
       "1      A    P1-10  EXXON MOBIL CORPORATION  \n",
       "2      A    P1-10  EXXON MOBIL CORPORATION  "
      ]
     },
     "execution_count": 40,
     "metadata": {},
     "output_type": "execute_result"
    }
   ],
   "source": [
    "operator_con_df.head(3)"
   ]
  },
  {
   "cell_type": "markdown",
   "id": "48c4dc60",
   "metadata": {},
   "source": [
    "### 3. Production Dataset"
   ]
  },
  {
   "cell_type": "markdown",
   "id": "c9ef54f2",
   "metadata": {},
   "source": [
    "These are the CSV files that have been used in this project."
   ]
  },
  {
   "cell_type": "code",
   "execution_count": 41,
   "id": "6286f85e",
   "metadata": {},
   "outputs": [],
   "source": [
    "operator_oil_df = pd.read_csv(r'C:\\Users\\r04ra18\\Desktop\\EDA\\Data\\csv-data\\production-data\\operator-production-data-oil-final.csv')\n",
    "operator_gas_df = pd.read_csv(r'C:\\Users\\r04ra18\\Desktop\\EDA\\Data\\csv-data\\production-data\\operator-production-data-gas-final.csv')\n",
    "operator_bar_race_df = pd.read_csv(r'C:\\Users\\r04ra18\\Desktop\\EDA\\Data\\csv-data\\operator-data\\Data-1624481618840.csv')"
   ]
  },
  {
   "cell_type": "markdown",
   "id": "fdb4b12d",
   "metadata": {},
   "source": [
    "### 4. Well Summary dataset"
   ]
  },
  {
   "cell_type": "markdown",
   "id": "6d588e21",
   "metadata": {},
   "source": [
    "Let us collect few well summary reports examples."
   ]
  },
  {
   "cell_type": "code",
   "execution_count": 42,
   "id": "8bb6f79a",
   "metadata": {},
   "outputs": [],
   "source": [
    "wells_summary_1 = requests.get('https://www.data.bsee.gov/Well/eWellEOR/EOR.aspx?dxrep_fake=&SnEOR=-145753')\n",
    "well_1 = r'C:\\Users\\r04ra18\\Desktop\\EDA\\Data\\csv-data\\well-report-data\\EOR.csv'\n",
    "well_2 = r'C:\\Users\\r04ra18\\Desktop\\EDA\\Data\\csv-data\\well-report-data\\EOR (1).csv'\n",
    "well_3 = r'C:\\Users\\r04ra18\\Desktop\\EDA\\Data\\csv-data\\well-report-data\\EOR (2).csv'\n",
    "well_4 = r'C:\\Users\\r04ra18\\Desktop\\EDA\\Data\\csv-data\\well-report-data\\WAR (1).csv'\n",
    "well_5 = r'C:\\Users\\r04ra18\\Desktop\\EDA\\Data\\csv-data\\well-report-data\\WAR (2).csv'\n",
    "well_6 = r'C:\\Users\\r04ra18\\Desktop\\EDA\\Data\\csv-data\\well-report-data\\WAR (3).csv'\n",
    "well_7 = r'C:\\Users\\r04ra18\\Desktop\\EDA\\Data\\csv-data\\well-report-data\\WAR (5).csv'\n",
    "well_8 = r'C:\\Users\\r04ra18\\Desktop\\EDA\\Data\\csv-data\\well-report-data\\APM.csv'\n",
    "well_9 = r'C:\\Users\\r04ra18\\Desktop\\EDA\\Data\\csv-data\\well-report-data\\APM (1).csv'\n",
    "well_10 = r'C:\\Users\\r04ra18\\Desktop\\EDA\\Data\\csv-data\\well-report-data\\APM (2).csv'\n",
    "well_11 = r'C:\\Users\\r04ra18\\Desktop\\EDA\\Data\\csv-data\\well-report-data\\APM (3).csv'"
   ]
  }
 ],
 "metadata": {
  "kernelspec": {
   "display_name": "Python 3",
   "language": "python",
   "name": "python3"
  },
  "language_info": {
   "codemirror_mode": {
    "name": "ipython",
    "version": 3
   },
   "file_extension": ".py",
   "mimetype": "text/x-python",
   "name": "python",
   "nbconvert_exporter": "python",
   "pygments_lexer": "ipython3",
   "version": "3.8.11"
  }
 },
 "nbformat": 4,
 "nbformat_minor": 5
}
