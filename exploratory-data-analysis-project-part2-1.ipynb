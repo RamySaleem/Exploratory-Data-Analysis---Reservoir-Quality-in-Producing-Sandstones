{
 "cells": [
  {
   "cell_type": "markdown",
   "id": "855f8e44",
   "metadata": {},
   "source": [
    "## 2. Data Exploration, Analysis and Visualization"
   ]
  },
  {
   "cell_type": "markdown",
   "id": "db9dbe76",
   "metadata": {},
   "source": [
    "Before we explore our data, let us identify some variables in our data frame."
   ]
  },
  {
   "cell_type": "markdown",
   "id": "7a650cba",
   "metadata": {},
   "source": [
    "![](https://i.imgur.com/V1dA182.png)"
   ]
  },
  {
   "cell_type": "markdown",
   "id": "1ab6d5bd",
   "metadata": {},
   "source": [
    "### a. Exploring the dataset"
   ]
  },
  {
   "cell_type": "markdown",
   "id": "87d6f75b",
   "metadata": {},
   "source": [
    "Let us explore our reservoir sandstone most crucial parameter in the data frame."
   ]
  },
  {
   "cell_type": "markdown",
   "id": "a197fc34",
   "metadata": {},
   "source": [
    "**Explore the thinkness of the Sand Stone**"
   ]
  },
  {
   "cell_type": "code",
   "execution_count": 43,
   "id": "2b32d13f",
   "metadata": {},
   "outputs": [
    {
     "data": {
      "text/plain": [
       "count    40130.000000\n",
       "mean        22.869531\n",
       "std         21.513727\n",
       "min          1.000000\n",
       "25%         10.232500\n",
       "50%         17.230000\n",
       "75%         28.240000\n",
       "max        721.020000\n",
       "Name: THK, dtype: float64"
      ]
     },
     "execution_count": 43,
     "metadata": {},
     "output_type": "execute_result"
    }
   ],
   "source": [
    "reservoir_sdst_df['THK'].describe()"
   ]
  },
  {
   "cell_type": "markdown",
   "id": "5b9106ec",
   "metadata": {},
   "source": [
    "**Explore the Reservoir volume (m3)**"
   ]
  },
  {
   "cell_type": "code",
   "execution_count": 44,
   "id": "e3eb0401",
   "metadata": {},
   "outputs": [
    {
     "data": {
      "text/plain": [
       "count    7203.000000\n",
       "mean      456.300014\n",
       "std       284.576320\n",
       "min         1.000000\n",
       "25%       209.000000\n",
       "50%       436.000000\n",
       "75%       700.000000\n",
       "max       999.000000\n",
       "Name: TVOL, dtype: float64"
      ]
     },
     "execution_count": 44,
     "metadata": {},
     "output_type": "execute_result"
    }
   ],
   "source": [
    "reservoir_sdst_df['TVOL'].describe()"
   ]
  },
  {
   "cell_type": "markdown",
   "id": "cf661dbf",
   "metadata": {},
   "source": [
    "**Explore the Total area (ac)**"
   ]
  },
  {
   "cell_type": "code",
   "execution_count": 45,
   "id": "1411eac0",
   "metadata": {},
   "outputs": [
    {
     "data": {
      "text/plain": [
       "count    33285.000000\n",
       "mean       282.563347\n",
       "std        246.949951\n",
       "min          1.000000\n",
       "25%         87.000000\n",
       "50%        200.000000\n",
       "75%        420.000000\n",
       "max        999.000000\n",
       "Name: TAREA, dtype: float64"
      ]
     },
     "execution_count": 45,
     "metadata": {},
     "output_type": "execute_result"
    }
   ],
   "source": [
    "reservoir_sdst_df['TAREA'].describe()"
   ]
  },
  {
   "cell_type": "markdown",
   "id": "128cb68f",
   "metadata": {},
   "source": [
    "Let us explore our pore space of the sandstone most crucial parameter in the data frame."
   ]
  },
  {
   "cell_type": "markdown",
   "id": "b5af9381",
   "metadata": {},
   "source": [
    "**Explore the Average porosity (%)**"
   ]
  },
  {
   "cell_type": "markdown",
   "id": "698640c5",
   "metadata": {},
   "source": [
    "![](https://i.imgur.com/Q252ZT1.png)"
   ]
  },
  {
   "cell_type": "markdown",
   "id": "1ba11945",
   "metadata": {},
   "source": [
    "We can also create a dataframe from the collected information."
   ]
  },
  {
   "cell_type": "code",
   "execution_count": 46,
   "id": "d96b8c4f",
   "metadata": {},
   "outputs": [
    {
     "data": {
      "text/html": [
       "<div>\n",
       "<style scoped>\n",
       "    .dataframe tbody tr th:only-of-type {\n",
       "        vertical-align: middle;\n",
       "    }\n",
       "\n",
       "    .dataframe tbody tr th {\n",
       "        vertical-align: top;\n",
       "    }\n",
       "\n",
       "    .dataframe thead th {\n",
       "        text-align: right;\n",
       "    }\n",
       "</style>\n",
       "<table border=\"1\" class=\"dataframe\">\n",
       "  <thead>\n",
       "    <tr style=\"text-align: right;\">\n",
       "      <th></th>\n",
       "      <th>POROSITY</th>\n",
       "      <th>PERMEABILITY</th>\n",
       "      <th>SW</th>\n",
       "      <th>THK</th>\n",
       "      <th>SS</th>\n",
       "    </tr>\n",
       "  </thead>\n",
       "  <tbody>\n",
       "    <tr>\n",
       "      <th>count</th>\n",
       "      <td>40130.000000</td>\n",
       "      <td>36450.000000</td>\n",
       "      <td>40130.000000</td>\n",
       "      <td>40130.000000</td>\n",
       "      <td>43.000000</td>\n",
       "    </tr>\n",
       "    <tr>\n",
       "      <th>mean</th>\n",
       "      <td>0.287274</td>\n",
       "      <td>357.467462</td>\n",
       "      <td>0.275979</td>\n",
       "      <td>22.869531</td>\n",
       "      <td>851.720930</td>\n",
       "    </tr>\n",
       "    <tr>\n",
       "      <th>std</th>\n",
       "      <td>0.038900</td>\n",
       "      <td>380.481876</td>\n",
       "      <td>0.094414</td>\n",
       "      <td>21.513727</td>\n",
       "      <td>173.114513</td>\n",
       "    </tr>\n",
       "    <tr>\n",
       "      <th>min</th>\n",
       "      <td>0.100000</td>\n",
       "      <td>0.000000</td>\n",
       "      <td>0.100000</td>\n",
       "      <td>1.000000</td>\n",
       "      <td>0.000000</td>\n",
       "    </tr>\n",
       "    <tr>\n",
       "      <th>25%</th>\n",
       "      <td>0.270000</td>\n",
       "      <td>109.000000</td>\n",
       "      <td>0.200000</td>\n",
       "      <td>10.232500</td>\n",
       "      <td>795.000000</td>\n",
       "    </tr>\n",
       "    <tr>\n",
       "      <th>50%</th>\n",
       "      <td>0.290000</td>\n",
       "      <td>233.000000</td>\n",
       "      <td>0.270000</td>\n",
       "      <td>17.230000</td>\n",
       "      <td>900.000000</td>\n",
       "    </tr>\n",
       "    <tr>\n",
       "      <th>75%</th>\n",
       "      <td>0.310000</td>\n",
       "      <td>485.000000</td>\n",
       "      <td>0.330000</td>\n",
       "      <td>28.240000</td>\n",
       "      <td>965.000000</td>\n",
       "    </tr>\n",
       "    <tr>\n",
       "      <th>max</th>\n",
       "      <td>0.380000</td>\n",
       "      <td>3954.000000</td>\n",
       "      <td>0.750000</td>\n",
       "      <td>721.020000</td>\n",
       "      <td>999.000000</td>\n",
       "    </tr>\n",
       "  </tbody>\n",
       "</table>\n",
       "</div>"
      ],
      "text/plain": [
       "           POROSITY  PERMEABILITY            SW           THK          SS\n",
       "count  40130.000000  36450.000000  40130.000000  40130.000000   43.000000\n",
       "mean       0.287274    357.467462      0.275979     22.869531  851.720930\n",
       "std        0.038900    380.481876      0.094414     21.513727  173.114513\n",
       "min        0.100000      0.000000      0.100000      1.000000    0.000000\n",
       "25%        0.270000    109.000000      0.200000     10.232500  795.000000\n",
       "50%        0.290000    233.000000      0.270000     17.230000  900.000000\n",
       "75%        0.310000    485.000000      0.330000     28.240000  965.000000\n",
       "max        0.380000   3954.000000      0.750000    721.020000  999.000000"
      ]
     },
     "execution_count": 46,
     "metadata": {},
     "output_type": "execute_result"
    }
   ],
   "source": [
    "reservoir_sdst_df[['POROSITY', 'PERMEABILITY', 'SW', 'THK', 'SS']].describe()"
   ]
  },
  {
   "cell_type": "code",
   "execution_count": 47,
   "id": "e413c8f9",
   "metadata": {},
   "outputs": [
    {
     "data": {
      "text/plain": [
       "count    40130.000000\n",
       "mean         0.287274\n",
       "std          0.038900\n",
       "min          0.100000\n",
       "25%          0.270000\n",
       "50%          0.290000\n",
       "75%          0.310000\n",
       "max          0.380000\n",
       "Name: POROSITY, dtype: float64"
      ]
     },
     "execution_count": 47,
     "metadata": {},
     "output_type": "execute_result"
    }
   ],
   "source": [
    "reservoir_sdst_df['POROSITY'].describe()"
   ]
  },
  {
   "cell_type": "markdown",
   "id": "598d9a43",
   "metadata": {},
   "source": [
    "**Explore the Arithmetic average permeability (md)**"
   ]
  },
  {
   "cell_type": "code",
   "execution_count": 48,
   "id": "da2aa425",
   "metadata": {},
   "outputs": [
    {
     "data": {
      "text/plain": [
       "count    36450.000000\n",
       "mean       357.467462\n",
       "std        380.481876\n",
       "min          0.000000\n",
       "25%        109.000000\n",
       "50%        233.000000\n",
       "75%        485.000000\n",
       "max       3954.000000\n",
       "Name: PERMEABILITY, dtype: float64"
      ]
     },
     "execution_count": 48,
     "metadata": {},
     "output_type": "execute_result"
    }
   ],
   "source": [
    "reservoir_sdst_df['PERMEABILITY'].describe()"
   ]
  },
  {
   "cell_type": "markdown",
   "id": "0f787723",
   "metadata": {},
   "source": [
    "**Explore the Water saturation**"
   ]
  },
  {
   "cell_type": "code",
   "execution_count": 49,
   "id": "c91adac4",
   "metadata": {},
   "outputs": [
    {
     "data": {
      "text/plain": [
       "count    40130.000000\n",
       "mean         0.275979\n",
       "std          0.094414\n",
       "min          0.100000\n",
       "25%          0.200000\n",
       "50%          0.270000\n",
       "75%          0.330000\n",
       "max          0.750000\n",
       "Name: SW, dtype: float64"
      ]
     },
     "execution_count": 49,
     "metadata": {},
     "output_type": "execute_result"
    }
   ],
   "source": [
    "reservoir_sdst_df['SW'].describe()"
   ]
  },
  {
   "cell_type": "markdown",
   "id": "fdcbd2a2",
   "metadata": {},
   "source": [
    "Let us take a sample of the data and explore our reservoir more."
   ]
  },
  {
   "cell_type": "code",
   "execution_count": 50,
   "id": "42ce56b4",
   "metadata": {},
   "outputs": [
    {
     "data": {
      "text/html": [
       "<div>\n",
       "<style scoped>\n",
       "    .dataframe tbody tr th:only-of-type {\n",
       "        vertical-align: middle;\n",
       "    }\n",
       "\n",
       "    .dataframe tbody tr th {\n",
       "        vertical-align: top;\n",
       "    }\n",
       "\n",
       "    .dataframe thead th {\n",
       "        text-align: right;\n",
       "    }\n",
       "</style>\n",
       "<table border=\"1\" class=\"dataframe\">\n",
       "  <thead>\n",
       "    <tr style=\"text-align: right;\">\n",
       "      <th></th>\n",
       "      <th>SN_FORMSAND</th>\n",
       "      <th>SAND_NAME</th>\n",
       "      <th>ASSESSED</th>\n",
       "      <th>SDDATE</th>\n",
       "      <th>SDYEAR</th>\n",
       "      <th>SDDATEH</th>\n",
       "      <th>SDYEARH</th>\n",
       "      <th>WELLAPI</th>\n",
       "      <th>BOEM_FIELD</th>\n",
       "      <th>FCLASS</th>\n",
       "      <th>...</th>\n",
       "      <th>TCNT</th>\n",
       "      <th>BHCOMP</th>\n",
       "      <th>LAT</th>\n",
       "      <th>LONG</th>\n",
       "      <th>CHRONOZONE_DESCRIPTION</th>\n",
       "      <th>PLAY</th>\n",
       "      <th>CHRONOZONE_y</th>\n",
       "      <th>PLAY_TYPE_y</th>\n",
       "      <th>PLAY_NUMBER</th>\n",
       "      <th>PLAY_NAME_DESCRIPTION</th>\n",
       "    </tr>\n",
       "  </thead>\n",
       "  <tbody>\n",
       "    <tr>\n",
       "      <th>2032</th>\n",
       "      <td>105023</td>\n",
       "      <td>1361_GI016_B1</td>\n",
       "      <td>Y</td>\n",
       "      <td>01/08/56</td>\n",
       "      <td>1956</td>\n",
       "      <td>10/30/83</td>\n",
       "      <td>1983</td>\n",
       "      <td>177170080800</td>\n",
       "      <td>GI016</td>\n",
       "      <td>PDP</td>\n",
       "      <td>...</td>\n",
       "      <td>6</td>\n",
       "      <td>18.0</td>\n",
       "      <td>29.096300</td>\n",
       "      <td>-89.997250</td>\n",
       "      <td>Upper Upper Miocene</td>\n",
       "      <td>MUU_P1</td>\n",
       "      <td>MUU</td>\n",
       "      <td>P1</td>\n",
       "      <td>1361</td>\n",
       "      <td>Upper Upper Miocene Progradational Play</td>\n",
       "    </tr>\n",
       "    <tr>\n",
       "      <th>4499</th>\n",
       "      <td>223616</td>\n",
       "      <td>1341_SM274_GD</td>\n",
       "      <td>Y</td>\n",
       "      <td>09/20/84</td>\n",
       "      <td>1984</td>\n",
       "      <td>09/20/84</td>\n",
       "      <td>1984</td>\n",
       "      <td>177074047200</td>\n",
       "      <td>SM274</td>\n",
       "      <td>PDN</td>\n",
       "      <td>...</td>\n",
       "      <td>1</td>\n",
       "      <td>1.0</td>\n",
       "      <td>29.118515</td>\n",
       "      <td>-92.141484</td>\n",
       "      <td>Upper Upper Miocene</td>\n",
       "      <td>MUU_A1</td>\n",
       "      <td>MUU</td>\n",
       "      <td>A1</td>\n",
       "      <td>1341</td>\n",
       "      <td>Upper Upper Miocene Aggradational Play</td>\n",
       "    </tr>\n",
       "    <tr>\n",
       "      <th>2684</th>\n",
       "      <td>134056</td>\n",
       "      <td>0561_HI414A_PLA10</td>\n",
       "      <td>Y</td>\n",
       "      <td>02/02/79</td>\n",
       "      <td>1979</td>\n",
       "      <td>02/02/79</td>\n",
       "      <td>1979</td>\n",
       "      <td>427094039500</td>\n",
       "      <td>HI414A</td>\n",
       "      <td>PDN</td>\n",
       "      <td>...</td>\n",
       "      <td>1</td>\n",
       "      <td>2.0</td>\n",
       "      <td>28.468630</td>\n",
       "      <td>-94.027310</td>\n",
       "      <td>Lower Pleistocene</td>\n",
       "      <td>PLL_P1</td>\n",
       "      <td>PLL</td>\n",
       "      <td>P1</td>\n",
       "      <td>561</td>\n",
       "      <td>Lower Pleistocene Progradational Play</td>\n",
       "    </tr>\n",
       "    <tr>\n",
       "      <th>4238</th>\n",
       "      <td>209543</td>\n",
       "      <td>0361_SM107_DJ</td>\n",
       "      <td>Y</td>\n",
       "      <td>07/30/64</td>\n",
       "      <td>1964</td>\n",
       "      <td>07/30/64</td>\n",
       "      <td>1964</td>\n",
       "      <td>177080007600</td>\n",
       "      <td>SM107</td>\n",
       "      <td>PDP</td>\n",
       "      <td>...</td>\n",
       "      <td>1</td>\n",
       "      <td>6.0</td>\n",
       "      <td>28.419890</td>\n",
       "      <td>-91.956320</td>\n",
       "      <td>Middle Pleistocene</td>\n",
       "      <td>PLM_P1</td>\n",
       "      <td>PLM</td>\n",
       "      <td>P1</td>\n",
       "      <td>361</td>\n",
       "      <td>Middle Pleistocene Progradational Play</td>\n",
       "    </tr>\n",
       "    <tr>\n",
       "      <th>9556</th>\n",
       "      <td>414669</td>\n",
       "      <td>0582_GB179_9500</td>\n",
       "      <td>Y</td>\n",
       "      <td>09/19/97</td>\n",
       "      <td>1997</td>\n",
       "      <td>09/19/97</td>\n",
       "      <td>1997</td>\n",
       "      <td>608074063700</td>\n",
       "      <td>GB179</td>\n",
       "      <td>PDN</td>\n",
       "      <td>...</td>\n",
       "      <td>1</td>\n",
       "      <td>1.0</td>\n",
       "      <td>27.771100</td>\n",
       "      <td>-93.764640</td>\n",
       "      <td>Lower Pleistocene</td>\n",
       "      <td>PLL_F2</td>\n",
       "      <td>PLL</td>\n",
       "      <td>F2</td>\n",
       "      <td>582</td>\n",
       "      <td>Lower Pleistocene Fan 2 Play</td>\n",
       "    </tr>\n",
       "  </tbody>\n",
       "</table>\n",
       "<p>5 rows × 87 columns</p>\n",
       "</div>"
      ],
      "text/plain": [
       "      SN_FORMSAND          SAND_NAME ASSESSED    SDDATE  SDYEAR   SDDATEH  \\\n",
       "2032       105023      1361_GI016_B1        Y  01/08/56    1956  10/30/83   \n",
       "4499       223616      1341_SM274_GD        Y  09/20/84    1984  09/20/84   \n",
       "2684       134056  0561_HI414A_PLA10        Y  02/02/79    1979  02/02/79   \n",
       "4238       209543      0361_SM107_DJ        Y  07/30/64    1964  07/30/64   \n",
       "9556       414669    0582_GB179_9500        Y  09/19/97    1997  09/19/97   \n",
       "\n",
       "      SDYEARH       WELLAPI BOEM_FIELD FCLASS  ... TCNT BHCOMP        LAT  \\\n",
       "2032     1983  177170080800      GI016    PDP  ...    6   18.0  29.096300   \n",
       "4499     1984  177074047200      SM274    PDN  ...    1    1.0  29.118515   \n",
       "2684     1979  427094039500     HI414A    PDN  ...    1    2.0  28.468630   \n",
       "4238     1964  177080007600      SM107    PDP  ...    1    6.0  28.419890   \n",
       "9556     1997  608074063700      GB179    PDN  ...    1    1.0  27.771100   \n",
       "\n",
       "           LONG CHRONOZONE_DESCRIPTION    PLAY  CHRONOZONE_y PLAY_TYPE_y  \\\n",
       "2032 -89.997250    Upper Upper Miocene  MUU_P1           MUU          P1   \n",
       "4499 -92.141484    Upper Upper Miocene  MUU_A1           MUU          A1   \n",
       "2684 -94.027310      Lower Pleistocene  PLL_P1           PLL          P1   \n",
       "4238 -91.956320     Middle Pleistocene  PLM_P1           PLM          P1   \n",
       "9556 -93.764640      Lower Pleistocene  PLL_F2           PLL          F2   \n",
       "\n",
       "     PLAY_NUMBER                    PLAY_NAME_DESCRIPTION  \n",
       "2032        1361  Upper Upper Miocene Progradational Play  \n",
       "4499        1341   Upper Upper Miocene Aggradational Play  \n",
       "2684         561    Lower Pleistocene Progradational Play  \n",
       "4238         361   Middle Pleistocene Progradational Play  \n",
       "9556         582             Lower Pleistocene Fan 2 Play  \n",
       "\n",
       "[5 rows x 87 columns]"
      ]
     },
     "execution_count": 50,
     "metadata": {},
     "output_type": "execute_result"
    }
   ],
   "source": [
    "reservoir_sdst_df.sample(5)"
   ]
  },
  {
   "cell_type": "markdown",
   "id": "774d6caf",
   "metadata": {},
   "source": [
    "### b. Analyzing data from data frames"
   ]
  },
  {
   "cell_type": "markdown",
   "id": "1e9e9926",
   "metadata": {},
   "source": [
    "**Porosity** is a measure of the percentage of pore spaces (empty) in a rock volume and is a fraction of the volume of voids over the total bulk volume of rock [between 0% to 100%]. For more information, see https://en.wikipedia.org/wiki/Porosity."
   ]
  },
  {
   "cell_type": "markdown",
   "id": "ee3df7a0",
   "metadata": {},
   "source": [
    "**Permeability** is a measure of the ability of a porous space in rocks to allow fluids to flow. For more information, see https://en.wikipedia.org/wiki/Permeability_(Earth_sciences)."
   ]
  },
  {
   "cell_type": "markdown",
   "id": "5102dc10",
   "metadata": {},
   "source": [
    "Let's try to answer some questions about our datasets."
   ]
  },
  {
   "cell_type": "markdown",
   "id": "35f23031",
   "metadata": {},
   "source": [
    "**Q: What is the total thickness of sandstone and total area of hydrocarbons reservoir in the Gulf of Mexico?**"
   ]
  },
  {
   "cell_type": "code",
   "execution_count": 51,
   "id": "6b54e099",
   "metadata": {},
   "outputs": [],
   "source": [
    "total_thickness = (reservoir_sdst_df.THK.sum() / 1000)\n",
    "total_area = (reservoir_sdst_df.TAREA.sum() / 1000)"
   ]
  },
  {
   "cell_type": "code",
   "execution_count": 52,
   "id": "0a66e6b6",
   "metadata": {},
   "outputs": [
    {
     "name": "stdout",
     "output_type": "stream",
     "text": [
      "The thickness of reported sandstones is 917km and the total reservoir area is 9405km.\n"
     ]
    }
   ],
   "source": [
    "print('The thickness of reported sandstones is {}km and the total reservoir area is {}km.'.format(int(total_thickness), int(total_area)))"
   ]
  },
  {
   "cell_type": "markdown",
   "id": "e4c6a0af",
   "metadata": {},
   "source": [
    "**Q: What is the average porosity of sandstone and average of permeability of hydrocarbons reservoir in the Gulf of Mexico?**"
   ]
  },
  {
   "cell_type": "code",
   "execution_count": 53,
   "id": "7f609ccb",
   "metadata": {},
   "outputs": [],
   "source": [
    "aver_porosity = (reservoir_sdst_df.POROSITY.mean() * 100)\n",
    "aver_permeability = (reservoir_sdst_df.PERMEABILITY.mean())"
   ]
  },
  {
   "cell_type": "code",
   "execution_count": 54,
   "id": "8412259b",
   "metadata": {},
   "outputs": [
    {
     "name": "stdout",
     "output_type": "stream",
     "text": [
      "The average porosity of reservoir sandstones is 28% and the average permeability is 357md. However, 350md as permeability is very high for average permeability, which indicates the presence of outliers, so let us investigate this further.\n"
     ]
    }
   ],
   "source": [
    "print('The average porosity of reservoir sandstones is {}% and the average permeability is {}md. However, 350md as permeability is very high for average permeability, which indicates the presence of outliers, so let us investigate this further.'.format(int(aver_porosity), int(aver_permeability)))"
   ]
  }
 ],
 "metadata": {
  "kernelspec": {
   "display_name": "Python 3",
   "language": "python",
   "name": "python3"
  },
  "language_info": {
   "codemirror_mode": {
    "name": "ipython",
    "version": 3
   },
   "file_extension": ".py",
   "mimetype": "text/x-python",
   "name": "python",
   "nbconvert_exporter": "python",
   "pygments_lexer": "ipython3",
   "version": "3.8.11"
  }
 },
 "nbformat": 4,
 "nbformat_minor": 5
}
